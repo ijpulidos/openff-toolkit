{
 "cells": [
  {
   "cell_type": "markdown",
   "id": "63095f58",
   "metadata": {},
   "source": [
    "# Things we won't do\n",
    "\n",
    "* Load a structure with missing atoms\n",
    "* Check for clashes or structural errors\n",
    "* Support automatic filling in missing atoms/loops "
   ]
  },
  {
   "cell_type": "markdown",
   "id": "8650c51b",
   "metadata": {},
   "source": [
    "# User contracts\n",
    "\n",
    "* Input data should have all the hydrogens. Complete molecules.\n",
    "* Molecules can only become invalid through inplace modifications. Methods would not return invalid molecules."
   ]
  },
  {
   "cell_type": "markdown",
   "id": "c443b8b3",
   "metadata": {},
   "source": [
    "# Guided example(s)"
   ]
  },
  {
   "cell_type": "code",
   "execution_count": null,
   "id": "4d7e7c53",
   "metadata": {},
   "outputs": [],
   "source": [
    "# Load structures and perceive info\n",
    "# This PDB file must have explicity hydrogens\n",
    "protein = Molecule.from_pdb_file('protein.pdb')\n",
    "\n",
    "# Pick some peptide C=O bond. The bond orders have been filled in for a library of substructures.\n",
    "protein.atoms[9]\n",
    "> <Atom with name O with element O>\n",
    "\n",
    "protein.bonds[10]\n",
    "> <Bond with bond_order 2 and atom1_index 9 and atom2_index 10>\n",
    "\n",
    "print(protein.residues)\n",
    "> ALA ALA LYS ALA\n",
    "\n",
    "dna = Molecule.from_file('dna.sdf')\n",
    "dna.bonds[10]\n",
    "> <Bond with bond_order 1 and atom1_index 7 and atom2_index 11>\n",
    "\n",
    "# Note that the SDF format doesn't contain residue names or numbers\n",
    "dna.residues\n",
    "> AttributeError\n",
    "print(dna.atoms[30].metadata)\n",
    "> {}\n",
    "# This method searches a dictionary of substructures to assign common residue names and numbers\n",
    "dna.perceive_residues(nucleotides=True)\n",
    "dna.residues\n",
    "> A T C G\n",
    "print(dna.atoms[30].metadata)\n",
    "> {'residue_num':2, 'residue_name':'T', 'chain':'A'}\n",
    "\n",
    "# Where they attach\n",
    "protein_attachment = protein.mdtraj_sel('resname LYS and name HD2')[0]\n",
    "dna_attachment = dna.chemical_environment_matches('c1ccn([H:1])c1')[0]\n",
    "\n",
    "\n",
    "# Merge the two\n",
    "new_molecule = Molecule.merge_molecules(protein, dna, protein_attachment, dna_attachment, \n",
    "                                        bond_order=1, keep_metadata=False)\n",
    "\n",
    "# Clear out old hierarchy definition and re-assign residue numbers and names\n",
    "new_molecule.perceive_residues(amino_acids=True, \n",
    "                               nucleotides=True, \n",
    "                               clear_existing=True,\n",
    "                               scheme='default')\n",
    "new_molecule.residues\n",
    "> ALA ALA UNK ALA T C G"
   ]
  },
  {
   "cell_type": "markdown",
   "id": "9fb93a9d",
   "metadata": {},
   "source": [
    " What if we wanted to keep the old residue names (and avoid residue `UNK`?)"
   ]
  },
  {
   "cell_type": "code",
   "execution_count": null,
   "id": "e0c473f0",
   "metadata": {},
   "outputs": [],
   "source": [
    "# Merge the two\n",
    "new_molecule = Molecule.merge_molecules(protein, dna, protein_attachment, dna_attachment, \n",
    "                                        bond_order=1, keep_metadata=True)\n",
    "\n",
    "\n",
    "# The residue numbers will now collide because we specified keep_metadata=True\n",
    "new_molecule.residues\n",
    "> ALA A ALA T LYS C ALA G\n",
    "\n",
    "new_molecule.residue(5)  # Selects atoms in 6th residue in iter, but this thinks it's residue number 3\n",
    "> <HierarchyElement with type residues with residue_num 3 residue_name C with chain A>\n",
    "\n",
    "\n",
    "# Increment the residue numbers before the merge to keep them distinct\n",
    "n_protein_res = len(protein.residues)\n",
    "for residue in dna.residues:\n",
    "    residue.residue_num += n_protein_res + 1\n",
    "    \n",
    "new_molecule = Molecule.merge_molecules(protein, dna, protein_attachment, dna_attachment, \n",
    "                                        bond_order=1, keep_metadata=True)   \n",
    "    \n",
    "\n",
    "new_molecule.residues\n",
    "> ALA ALA LYS ALA A T C G"
   ]
  },
  {
   "cell_type": "markdown",
   "id": "42ec7517",
   "metadata": {},
   "source": [
    "Why do I keep seeing the word \"Hierarchy\"?"
   ]
  },
  {
   "cell_type": "code",
   "execution_count": null,
   "id": "ed21d966",
   "metadata": {},
   "outputs": [],
   "source": [
    "print(protein.hierarchy_schemes)\n",
    "> [<HierarchyScheme with method_name='residues' uniqueness_criteria=['chain', 'residue_num', 'residue_name']>,\n",
    "   <HierarchyScheme with method_name='chains' uniqueness_criteria=['chain']>]\n",
    "\n",
    "protein.add_hierarchy_scheme(...)\n",
    "\n"
   ]
  },
  {
   "cell_type": "markdown",
   "id": "1dabcd8c",
   "metadata": {},
   "source": [
    "# Reading from file\n",
    "\n",
    "Reading biopolymer molecules from files, either in `sdf` or in `pdb` formats.\n",
    "\n",
    "* from `sdf`: No residue information.\n",
    "* from `pdb`: No detailed chemical information. Bond order, formal charges, stereochemistry, etc.\n",
    "\n",
    "**Multiple molecules in single file**, so far. Molecule expected to be complete, including hydrogens."
   ]
  },
  {
   "cell_type": "markdown",
   "id": "df7f247c",
   "metadata": {},
   "source": [
    "* Load from SDF, perceive residues\n",
    "* Load from PDB, fill in details according to known residues?"
   ]
  },
  {
   "cell_type": "code",
   "execution_count": null,
   "id": "c58ff4ca",
   "metadata": {},
   "outputs": [],
   "source": [
    "protein = Molecule.from_file('some_mol.sdf')\n",
    "protein.perceive_residues(pattern=['SMARTS_PATTERN', 'SMARTS_PATTERN2'])\n",
    "\n",
    "dna_helix = Molecule.from_file('some_dna.sdf')\n",
    "dna_helix.perceive_residues(nucleotides=True)\n",
    "# Do we want to differentiate deoxy with ribonucleotides?\n",
    "\n",
    "protein = Molecule.from_pdb_file('some_mol.pdb')\n",
    "\n",
    "print(protein)\n",
    "> Molecule with 5000 atoms\n",
    "\n",
    "protein = Molecule.from_pdb_file('some_mol_missing_hs.pdb')\n",
    "> IncompletePDBError: The Open Force Field Toolkit requires all \n",
    "> protons to be assigned before reading from PDB format. \n",
    "> (possibly more info here)\n",
    "\n",
    "# Perceiving residues - Should be automatic for PDB\n",
    "protein.perceive_residues()\n"
   ]
  },
  {
   "cell_type": "markdown",
   "id": "7cdb92b8",
   "metadata": {},
   "source": [
    "Or we could have a special atom-typed object"
   ]
  },
  {
   "cell_type": "code",
   "execution_count": null,
   "id": "1b060b77",
   "metadata": {},
   "outputs": [],
   "source": [
    "# Or a special atom-typed molecule\n",
    "protein = PDBMolecule.from_pdb_file('some_mol.pdb')\n",
    "print(protein)\n",
    "> <PDBMolecule ...>"
   ]
  },
  {
   "cell_type": "markdown",
   "id": "af500b95",
   "metadata": {},
   "source": [
    "Or we could have a special method for atom-typed molecules/files"
   ]
  },
  {
   "cell_type": "code",
   "execution_count": null,
   "id": "c4c34de9",
   "metadata": {},
   "outputs": [],
   "source": [
    "# Or special method for PDB (atom-typed)\n",
    "protein = Molecule.from_pdbfile('some_mol.pdb')\n",
    "print(protein)\n",
    "> <Molecule with X atoms>"
   ]
  },
  {
   "cell_type": "markdown",
   "id": "19385349",
   "metadata": {},
   "source": [
    "# Reading from sequence\n",
    "\n",
    "Reading biopolymer molecules from monomer/aa sequence string.\n",
    "\n",
    "> - What about terminal caps? \n",
    "\n",
    "**Not much of a use for this**\n",
    "\n",
    "    How to come up with conformers? Protonation? \n",
    "    How to match conformers to sequence?"
   ]
  },
  {
   "cell_type": "code",
   "execution_count": null,
   "id": "7f718021",
   "metadata": {},
   "outputs": [],
   "source": [
    "# from 3-letter code\n",
    "protein = Molecule.from_sequence(\"AlaValGly\", code='3-letter')\n",
    "\n",
    "# from 1-letter code (default?)\n",
    "protein = Molecule.from_sequence(\"AVQ\")\n",
    "\n",
    "print(protein)\n",
    "> Molecule with 5000 atoms\n",
    "\n",
    "# from 1-letter code (default?)\n",
    "protein = Molecule.from_sequence(\"AVQZ\")\n",
    "> UnrecognizedAAError: Unrecognized amino acid in position 3.\n",
    "# Analogous for 3-letter code. Could simply a ValueError do it?"
   ]
  },
  {
   "cell_type": "markdown",
   "id": "04619455",
   "metadata": {},
   "source": [
    "# Histidines Protonation states\n",
    "\n",
    "If we know the bonds orders we should be able to know the protonation state at a given pH and vice versa."
   ]
  },
  {
   "cell_type": "code",
   "execution_count": null,
   "id": "d01e8a7d",
   "metadata": {},
   "outputs": [],
   "source": []
  },
  {
   "cell_type": "markdown",
   "id": "60d8021c",
   "metadata": {},
   "source": [
    "# Flexible bookkeeping and grouping\n",
    "\n",
    "Some (many?) of these things can be accomplished using some selection algebra language, as many visualizers and packages do (e.g. `name CA and resn LYS` ). We could eventually have a `to_mdtraj` as a way to use its selection language capabilities.\n"
   ]
  },
  {
   "cell_type": "markdown",
   "id": "6fcb4390",
   "metadata": {},
   "source": [
    "## Atoms"
   ]
  },
  {
   "cell_type": "code",
   "execution_count": null,
   "id": "4352ee24",
   "metadata": {},
   "outputs": [],
   "source": [
    "protein = Molecule.from_file('protein.sdf')\n",
    "protein.atoms\n",
    "> <generator object at ... >\n"
   ]
  },
  {
   "cell_type": "markdown",
   "id": "95ab9069",
   "metadata": {},
   "source": [
    "\n",
    "## Residues\n",
    "\n",
    "Residues in molecule should be iterable.\n",
    "\n",
    "**NOTE:** Do we need a `Residue` type? Would the `Molecule` type be sufficient? "
   ]
  },
  {
   "cell_type": "code",
   "execution_count": null,
   "id": "e416570f",
   "metadata": {},
   "outputs": [],
   "source": [
    "# From SDF\n",
    "protein = Molecule.from_file('protein.sdf')\n",
    "protein.atoms[10].metadata['residue_name']\n",
    "> KeyError: Whats a residue?\n",
    "protein.perceive_residues()\n",
    "protein.atoms[10].metadata['residue_name']\n",
    "> ALA\n",
    "protein.atoms[10].metadata['residue_num']\n",
    "> 2\n",
    "\n",
    "# From PDB\n",
    "protein_from_pdb = Molecule.from_pdb_file('protein.pdb')\n",
    "protein_from_pdb.atoms[10].metadata['residue_name']\n",
    "> ALA\n",
    "\n"
   ]
  },
  {
   "cell_type": "code",
   "execution_count": null,
   "id": "82ebf71a",
   "metadata": {},
   "outputs": [],
   "source": [
    "protein.perceive_hierarchy(['residues', 'chains'])\n",
    "type(protein.residues[10])\n",
    "> <HierarchyElement of type residues with id ('A', 10, 'ALA') ...>\n",
    "dir(protein.residues[10])\n",
    "> [atoms, chain, residue_num, residue_name]\n",
    "protein.residues[10].atoms\n",
    "[150, 151, 152... 171]\n",
    "protein.atoms[150].hier_info['residues']\n",
    "> <HierarchyElement of type residues with id ('A', 10, 'ALA') ...>\n",
    "protein.atoms[150].hier_info['chains']\n",
    "> <HierarchyElement of type chain with id ('A',) ...>\n",
    "\n",
    "# The user is allowed to shoot themself in the foot, and use the public API to fix it\n",
    "protein.residues[10].atoms.append(900)\n",
    "protein.residues[10].atoms\n",
    "[150, 151, 152... 171, 900]\n",
    "protein.atoms[900].hier_info['residues'] = protein.residues[10]\n",
    "\n",
    "# manually modifying a residue can also get the backreferences broken\n",
    "protein.residues[10].atoms = protein.residues[10].atoms[1:]\n",
    "protein.atoms[150].hier_info['residues']\n",
    "> <HierarchyElement of type residues with id ('A', 10, 'ALA') ...>\n",
    "# fix\n",
    "del protein.atoms[150].hier_info['residues']\n",
    "\n",
    "# What if there's some special hand-modifications already performed, but the user has added something \n",
    "# new and wants that to have only the new parts to have their hierarchy percieved?\n",
    "protein.perceive_hierarchy()"
   ]
  },
  {
   "cell_type": "markdown",
   "id": "741b78a8",
   "metadata": {},
   "source": [
    "* Support iteration over `Biopolymer.residues` when residues are separated by\n",
    "    * resname/residue + resnum/resid"
   ]
  },
  {
   "cell_type": "code",
   "execution_count": null,
   "id": "81902154",
   "metadata": {},
   "outputs": [],
   "source": [
    "protein.residues\n",
    "> <generator object residues at 0x7f7268acecf0>\n",
    "\n",
    "residues_list = []\n",
    "for residue in protein.residues:\n",
    "    residues_list.append(residue)\n",
    "\n",
    "print(residues_list)\n",
    "> [<Residue ABC, ID1>, ..., <Residue XYZ, IDN>]"
   ]
  },
  {
   "cell_type": "code",
   "execution_count": null,
   "id": "42365f06",
   "metadata": {},
   "outputs": [],
   "source": [
    "print(protein.hierarchy_schemes)\n",
    "> [<HierarchyScheme with method_name='residues' uniqueness_criteria=['chain', 'residue_num', 'residue_name']>,\n",
    "   <HierarchyScheme with method_name='chains' uniqueness_criteria=['chain']>]\n",
    "\n",
    "protein.add_hierarchy_scheme(...)\n",
    "\n"
   ]
  },
  {
   "cell_type": "markdown",
   "id": "df89210e",
   "metadata": {},
   "source": [
    "We should expose only the setters defined by the hierarchy scheme"
   ]
  },
  {
   "cell_type": "code",
   "execution_count": null,
   "id": "45ec58e3",
   "metadata": {},
   "outputs": [],
   "source": [
    "# Using the hierarchy scheme above\n",
    "protein.perceive_hierarchy(scheme=['residues'])\n",
    "protein.residues[10]\n",
    "> <HierarchyElement of type \"residues\" with id ('A','11','ALA') with residue_num 11, chain A, residue_name ALA>\n",
    "protein.residues[('A','11','ALA')]\n",
    "> <HierarchyElement of type \"residues\" with id ('A','11','ALA') with residue_num 11, chain A, residue_name ALA>\n",
    "\n",
    "\n",
    "\n",
    "protein.residues[10].residue_name\n",
    "> ALA\n",
    "protein.residues[10].residue_num\n",
    "> 2\n",
    "protein.residues[10].chain\n",
    "> 0\n",
    "or \n",
    "> \"A\"\n",
    "protein.residues[10].residue_name = \"LYS\"\n",
    "protein.residues[10].residue_name\n",
    "> LYS\n",
    "protein.residues[10].residue_num = 5\n",
    "protein.residues[10].residue_num\n",
    "> 5\n",
    "\n",
    "\n",
    "# Now Change the hierarchy scheme -- What does it do with the previous hierarchy metadata?\n",
    "protein.perceive_hierarchy(scheme=['chains'])\n",
    "[*protein.chains]\n",
    "> SomeSortOfDictyList[<HierarchyElement of type \"chains\" with id \"A\" with chain A>]\n",
    "protein.chains[0]\n",
    "> <HierarchyElement of type \"chains\" with id \"A\" with chain A>\n",
    "protein.chains['A']\n",
    "> <HierarchyElement of type \"chains\" with id \"A\" with chain A>\n",
    "\n",
    "protein.residues[10].chain = 'B'\n",
    "protein.residues[10].chain\n",
    "> \"B\"\n",
    "\n",
    "# Option 1 -- Let's do this one!\n",
    "protein.chains['B']\n",
    "> KeyError\n",
    "protein.perceive_hierarchy(scheme=['chains'])\n",
    "protein.chains['B']\n",
    "> <HierarchyElement of type \"chains\" with id \"B\" with chain B>\n",
    "\n",
    "# Option 2 -- This is probably bad, because it means the hierarchies are silently being re-percieved in the\n",
    "# background, which could screw with things that the user manually set\n",
    "protein.chains['B']\n",
    "> <HierarchyElement of type \"chains\" with id \"B\" with chain B>\n",
    "\n",
    "\n",
    "\n",
    "protein.chains['A'].chain = 'B'\n",
    "[*protein.chains]\n",
    "> SomeSortOfDictyList[<HierarchyElement of type \"chains\" with id \"B\" with chain B>]\n",
    "\n"
   ]
  },
  {
   "cell_type": "code",
   "execution_count": null,
   "id": "6e556eba",
   "metadata": {},
   "outputs": [],
   "source": [
    "protein.residues[10]\n",
    "> <HierarchyElement of type \"residues\" with id ('A','11','ALA') with residue_num 11, chain A, residue_name ALA>\n",
    "\n",
    "protein.residues[('A','11','ALA')]\n",
    "> <HierarchyElement of type \"residues\" with id ('A','11','ALA') with residue_num 11, chain A, residue_name ALA>\n",
    "\n",
    "protein.residues[10].chain\n",
    "> A\n",
    "protein.residues[10].chain='Z'\n",
    "protein.residues[10].chain\n",
    "> A\n",
    "protein.residues[-1].chain\n",
    "> Z\n",
    "\n",
    "protein.residues[('A','11','ALA')]\n",
    "> KeyError\n",
    "\n",
    "protein.residues[10]\n",
    "> <HierarchyElement of type \"residues\" with id ('A','12','HIS') with residue_num 12, chain A, residue_name HIS>\n",
    "\n",
    "protein.residues[('Z','11','ALA')]\n",
    "> <HierarchyElement of type \"residues\" with id ('Z','11','ALA') with residue_num 11, chain Z, residue_name ALA>\n",
    "protein.residues[-1]\n",
    "> <HierarchyElement of type \"residues\" with id ('Z','11','ALA') with residue_num 11, chain Z, residue_name ALA>\n"
   ]
  },
  {
   "cell_type": "markdown",
   "id": "8ef5692b",
   "metadata": {},
   "source": [
    "Drawbacks of the above approach\n",
    "* It is dangerous to allow integer-based access to hierarchy-lists, since they can go out of date\n",
    "    * Maybe only expose iterator?\n",
    "    * Should we expose subscriptable access at all? (allow `protein.chains[('A',)]`?). Or only allow acces via things like `protein.select_residues`?\n",
    "* It is dangerous to allow atom-level metadata assignment though HierarchyElements, since they can change the groupings\n",
    "* \n",
    "\n",
    "Possible future ideas?\n",
    "* Allow hierarchies within hierarchies? `protein.chains['A'].residues`?"
   ]
  },
  {
   "cell_type": "markdown",
   "id": "234d0c85",
   "metadata": {},
   "source": [
    "### Nonstandard residue handling"
   ]
  },
  {
   "cell_type": "markdown",
   "id": "904e32a1",
   "metadata": {},
   "source": [
    "* Detect unnatural AA and assign parameters, gracefully handle backbone interface w/ natural AAs\n",
    "* Modified AA becomes a single residue\n",
    "* Modified AA becomes several residues (maybe one for each monosaccharide)\n",
    "\n",
    "What if the lipid is attached in more than one site? "
   ]
  },
  {
   "cell_type": "code",
   "execution_count": null,
   "id": "a2b83db9",
   "metadata": {},
   "outputs": [],
   "source": [
    "protein = Molecule.from_file('protein.sdf')\n",
    "lipid = Molecule.from_file('lipid.sdf')\n",
    "\n",
    "print(protein.atoms[10].metadata['resname'])\n",
    "> KeyError: \n",
    "\n",
    "protein.perceive_residues(skip_hierarchy=True)\n",
    "print(protein.atoms[10].metadata['resname'])\n",
    "> ALA\n",
    "\n",
    "protein.residues\n",
    "> AttributeError\n",
    "\n",
    "protein.perceive_hierarchy()  # Exposes iterables\n",
    "protein.residues\n",
    "> ALA ALA LYS GLU\n",
    "\n",
    "protein_attachment_h = protein.mdtraj_sel('resname LYS and name HD2')[0]\n",
    "lipid_attachment_h = lipid.mdtraj.sel('name H1')[0]\n",
    "# This would end up with \"invalid\" mols -- get rid of it\n",
    "# protein.delete_atom(protein_attachment_h)\n",
    "# lipid.delete_atom(lipid_attachment_h)\n",
    "#add a new bond between the atoms that had their Hs removed\n",
    "#protein.add_bond(protein_attachment_h-1, lipid_attachment_h-1) \n",
    "\n",
    "new_molecule = Molecule.merge_molecules(protein, lipid, protein_attachment_h, lipid_attachment_h, \n",
    "                                        bond_order=1, keep_metadata=False)\n",
    "\n",
    "# Scheme is how to handle unknown regions of the molecule\n",
    "# e.g. The modified region becomes a single unknown residue\n",
    "new_molecule.perceive_hierarchy(scheme='default')\n",
    "\n",
    "\n",
    "print([*new_molecule.residues])\n",
    "> ALA, ALA, UNK, GLU\n",
    "\n",
    "new_molecule.clear_hierarchy()\n",
    "# Different scheme. The modified region tries to retain the original res label\n",
    "new_molecule.perceive_hierarchy(scheme='separate_ptms')\n",
    "print([*new_molecule.residues])\n",
    "> ALA, ALA, LYS, LIP, GLU\n",
    "\n",
    "\n",
    "\n",
    "# change atom properties/data\n",
    "protein.atoms[10].metadata['resname'] = 'GLU'\n",
    "protein.atoms[10].update_metadata(key='resname', value='GLU')"
   ]
  },
  {
   "cell_type": "markdown",
   "id": "fdb85b1a",
   "metadata": {},
   "source": [
    "Merge_molecules should optionally return a mapping from the original atom indices to the new ones"
   ]
  },
  {
   "cell_type": "code",
   "execution_count": null,
   "id": "1eecb85c",
   "metadata": {},
   "outputs": [],
   "source": [
    "len(protein.atoms)\n",
    "> 10000\n",
    "len(dna.atoms)\n",
    "> 5000\n",
    "protein_attachment\n",
    "> <Atom with name H with element H>\n",
    "dna_attachment\n",
    "new_molecule, mol1_to_new_mol_idxs, mol2_to_new_mol_idx2 = Molecule.merge_molecules(protein, \n",
    "                                                                                    lipid, \n",
    "                                                                                    protein_attachment_h, \n",
    "                                                                                    lipid_attachment_h, \n",
    "                                                                                    bond_order=1, \n",
    "                                                                                    keep_metadata=False, \n",
    "                                                                                    return_atom_maps=True)\n",
    "mol1_to_new_mol_idxs\n",
    "> {0: 0, 1:1, ..., 9999:9999}\n",
    "mol2_to_new_mol_idx2\n",
    "> {0:, 1:, ..., 4999:}"
   ]
  },
  {
   "cell_type": "markdown",
   "id": "7488c96b",
   "metadata": {},
   "source": [
    "Get residues given IDs"
   ]
  },
  {
   "cell_type": "code",
   "execution_count": null,
   "id": "8ee54b48",
   "metadata": {},
   "outputs": [],
   "source": [
    "protein.select_residues(resid=23)\n",
    "> [<Residue GLY, 23>]\n",
    "\n",
    "# Do we want to be able to get groups of residues? (what about getting atoms from these?)\n",
    "protein.select_residues(resid=[23, 72, 12])\n",
    "> [<Residue GLY, 23>, <Residue GLY, 23>, <Residue GLY, 23>]  # Maybe this should be a generator"
   ]
  },
  {
   "cell_type": "markdown",
   "id": "7808f977",
   "metadata": {},
   "source": [
    "Get the atoms from a given residue ID. Then the `Atom` must have some `resid` attribute?"
   ]
  },
  {
   "cell_type": "code",
   "execution_count": null,
   "id": "964ec3f6",
   "metadata": {},
   "outputs": [],
   "source": [
    "protein.select_residues(resid=23).atoms\n",
    "> [<Atom name='' atomic number='6' resid='23'>, <Atom name='' atomic number='7' resid='23'>, \n",
    "   ..., <Atom name='' atomic number='1' resid='23'>]\n",
    "\n",
    "# Do we want to be able to get groups of residues? (what about getting atoms from these?)\n",
    "protein.select_residues(resid=[23, 72, 12]).atoms\n",
    "> [\n",
    "    [<Atom name='' atomic number='6' resid='23'>, ..., <Atom name='' atomic number='1' resid='23'>],\n",
    "    [<Atom name='' atomic number='6' resid='72'>, ..., <Atom name='' atomic number='1' resid='72'>],\n",
    "    [<Atom name='' atomic number='6' resid='12'>, ..., <Atom name='' atomic number='1' resid='12'>]\n",
    "]"
   ]
  },
  {
   "cell_type": "markdown",
   "id": "56b9fa2a",
   "metadata": {},
   "source": [
    "Get all residues matching a name"
   ]
  },
  {
   "cell_type": "code",
   "execution_count": null,
   "id": "8f550446",
   "metadata": {},
   "outputs": [],
   "source": [
    "protein.select_residues(name=\"LYS\")\n",
    "> [<Residue LYS, 3>, <Residue LYS, 21>, ..., <Residue LYS, 344>]"
   ]
  },
  {
   "cell_type": "markdown",
   "id": "fc8161c4",
   "metadata": {},
   "source": [
    "Renaming/transforming residues. \n",
    "\n",
    "> Should be just a metadata change"
   ]
  },
  {
   "cell_type": "code",
   "execution_count": null,
   "id": "1b785b9e",
   "metadata": {},
   "outputs": [],
   "source": [
    "protein.select_residues(resid=23)[0].name\n",
    "> \"GLY\"\n",
    "protein.select_residues(resid=23)[0].name = \"LYS\"\n",
    "protein.select_residues(resid=23)[0].name\n",
    "> \"LYS\"\n",
    "protein.select_residues(resid=23)\n",
    "> [<Residue LYS, 23>]\n",
    "protein.select_residues(resid=23)[0].name = \"WAT\"\n",
    "> \n",
    "protein.select_residues(resid=23)[0].name \n",
    "> \"WAT\"\n",
    "\n",
    "# Do we want to be able to rename groups of residues?\n",
    "# Then we need to match shapes/lengths -- is it getting out of control?\n",
    "protein.select_residues(resid=[23, 72, 12]).name\n",
    "> [\"GLY\", \"ARG\", \"TYR\"]\n",
    "protein.select_residues(resid=[23, 72, 12]).name = [\"LYS\", \"VAL\", \"CYS\"]\n",
    "protein.select_residues(resid=[23, 72, 12]).name\n",
    "> [\"LYS\", \"VAL\", \"CYS\"]"
   ]
  },
  {
   "cell_type": "markdown",
   "id": "652bd40d",
   "metadata": {},
   "source": [
    "We should be able to see numbers/ids and atoms"
   ]
  },
  {
   "cell_type": "code",
   "execution_count": null,
   "id": "0df39186",
   "metadata": {},
   "outputs": [],
   "source": [
    "protein.select_residues(resid=23)[0]."
   ]
  },
  {
   "cell_type": "markdown",
   "id": "c144ded6",
   "metadata": {},
   "source": [
    "## Chains/Segments\n",
    "\n",
    "We want to be able to group or cluster chains.\n",
    "\n",
    "> Do we want a `Chain` class?\n",
    "\n",
    "Assuming that you have multiple chains in your input files.\n",
    "\n",
    "Chains should be iterable."
   ]
  },
  {
   "cell_type": "code",
   "execution_count": null,
   "id": "90d21b59",
   "metadata": {},
   "outputs": [],
   "source": [
    "protein = Molecule.from_file('protein.sdf')\n",
    "protein.chains\n",
    "> AttributeError: ...\n",
    "protein.perceive_chains()\n",
    "protein.chains\n",
    "> ['A', 'B', ...,  'Z', '0', ..., '9']\n",
    "protein.group_by(key='chains', values=['A', 'B'])\n",
    "> AtomGroup"
   ]
  },
  {
   "cell_type": "code",
   "execution_count": null,
   "id": "ab9feb5a",
   "metadata": {},
   "outputs": [],
   "source": [
    "protein = Molecule.from_file('protein.sdf')\n",
    "protein.atoms[10].metadata['chain']\n",
    "> 'B'"
   ]
  },
  {
   "cell_type": "markdown",
   "id": "6b61dd27",
   "metadata": {},
   "source": [
    "## Example. Protein - DNA merging"
   ]
  },
  {
   "cell_type": "markdown",
   "id": "d3f889c8",
   "metadata": {},
   "source": [
    "We expect coordinates of both molecules to be in the same frame of reference.\n",
    "\n",
    "* Attach a cofactor like heme, which connects to 4 other residues"
   ]
  },
  {
   "cell_type": "code",
   "execution_count": null,
   "id": "cb237d36",
   "metadata": {},
   "outputs": [],
   "source": [
    "# Load structures and perceive info\n",
    "protein = Molecule.from_file('protein.sdf')\n",
    "dna = Molecule.from_file('dna.sdf')\n",
    "protein.perceive_residues()\n",
    "protein.residues\n",
    "> ALA ALA LYS ALA\n",
    "dna.perceive_residues(nucleotides=True)\n",
    "dna.residues\n",
    "> A T C G\n",
    "# Where they attach\n",
    "protein_attachment = protein.mdtraj_sel('resname LYS and name HD2')[0]\n",
    "dna_attachment = dna.chemical_environment_matches('c1ccn([H:1])c1')[0]\n",
    "# Merge the two\n",
    "new_molecule = Molecule.merge_molecules(protein, dna, protein_attachment, dna_attachment, \n",
    "                                        bond_order=1, keep_metadata=True)\n",
    "                                        # What metadata to keep then?\n",
    "new_molecule.residues\n",
    "> ALA ALA LYS ALA A T C G\n",
    "new_molecule.residue(5)  # Selects atoms in 6th residue in iter\n",
    "> T\n",
    "\n",
    "new_molecule.perceive_residues(amino_acids=True, \n",
    "                               nucleotides=True, \n",
    "                               clear_existing=True,\n",
    "                               scheme='default')\n",
    "new_molecule.residues\n",
    "> ALA ALA UNK ALA T C G\n",
    "or\n",
    "> ALA ALA UNK T ALA C G"
   ]
  },
  {
   "cell_type": "markdown",
   "id": "e76653cb",
   "metadata": {},
   "source": [
    "Can a atom be in more than one residue/HierarchyElement?\n",
    "\n",
    "Will an atom have a pointer to its residue/HierarchyElement?\n",
    "* DD -- In MDAnalysis, to keepthings organized and valid, we made the hierarchies very strict. Eg, every atom was a member of exactly one residue, residues were part of a chain. Then there were just a few tables, and it was trivial to check whether they were consistent/valid. \n",
    "* JW -- This may be too inflexible for our use cases and the variety of users we'll have. "
   ]
  },
  {
   "cell_type": "markdown",
   "id": "f6b80726",
   "metadata": {},
   "source": [
    "What if we want no residue information on DNA"
   ]
  },
  {
   "cell_type": "code",
   "execution_count": null,
   "id": "db3ec39e",
   "metadata": {},
   "outputs": [],
   "source": [
    "# Load structures and perceive info - No residues for DNA\n",
    "protein = Molecule.from_file('protein.sdf')\n",
    "dna = Molecule.from_file('dna.sdf')\n",
    "protein.perceive_residues()\n",
    "protein.residues\n",
    "> ALA ALA LYS ALA\n",
    "dna.residues\n",
    "> AttributeError\n",
    "# Where they attach\n",
    "protein_attachment = protein.mdtraj_sel('resname LYS and name HD2')[0]\n",
    "dna_attachment = dna.chemical_environment_matches('c1ccn([H:1])c1')[0]\n",
    "# Merge the two\n",
    "new_molecule = Molecule.merge_molecules(protein, dna, protein_attachment, dna_attachment, \n",
    "                                        bond_order=1, keep_metadata=True)\n",
    "                                        # What metadata to keep then?\n",
    "new_molecule.residues\n",
    "> ALA ALA LYS ALA   # Note the difference here\n",
    "new_molecule.residue(5)  # Selects atoms in 6th residue in iter\n",
    "> IndexError: ...\n",
    "new_molecule.residue(3)\n",
    "> ALA\n",
    "\n",
    "new_molecule.perceive_residues(amino_acids=True, \n",
    "                               nucleotides=True, \n",
    "                               clear_existing=True,\n",
    "                               scheme='default')\n",
    "new_molecule.residues\n",
    "> ALA ALA UNK ALA T C G\n",
    "or\n",
    "> ALA ALA UNK T ALA C G\n"
   ]
  },
  {
   "cell_type": "markdown",
   "id": "f96b618f",
   "metadata": {},
   "source": [
    "If we have multiple attachment sites do we just run `merge_molecules` multiple times?"
   ]
  },
  {
   "cell_type": "markdown",
   "id": "99fde86c",
   "metadata": {},
   "source": [
    "# Modifications\n",
    "\n",
    "## Adding/removing atoms\n",
    "\n",
    "* Change protonation state of a residue"
   ]
  },
  {
   "cell_type": "code",
   "execution_count": null,
   "id": "5c748d64",
   "metadata": {},
   "outputs": [],
   "source": [
    "mol = Molecule.from_file('protein.sdf')\n",
    "mol.perceive_residues()\n",
    "mol.residue(6)\n",
    "> Residue ALA / AtomGroup with 15 atoms with index 90-105\n",
    "new_idx = mol.add_atom(atomic_number=99, \n",
    "                       formal_charge=0, \n",
    "                       sterochemistry=None)\n",
    "mol.add_bond(100, new_idx, bond_order=1, stereochemistry=None)\n",
    "# EITHER\n",
    "mol.remove_bond(100, 101)\n",
    "mol.remove_atom(101)\n",
    "# OR\n",
    "mol.remove_atom(101)\n",
    "\n",
    "mol.residue(6)\n",
    "> Residue ALA / AtomGroup with 14 atoms\n",
    "\n",
    "mol.perceive_residues()\n",
    "mol.residue(6)\n",
    "> Residue UNK / AtomGroup with 15 atoms\n",
    "\n"
   ]
  },
  {
   "cell_type": "markdown",
   "id": "1f6ddc4e",
   "metadata": {},
   "source": [
    "## Adding removing/residues"
   ]
  },
  {
   "cell_type": "markdown",
   "id": "db2368a6",
   "metadata": {},
   "source": [
    "# Handling bonds"
   ]
  },
  {
   "cell_type": "code",
   "execution_count": null,
   "id": "0193d746",
   "metadata": {},
   "outputs": [],
   "source": []
  },
  {
   "cell_type": "code",
   "execution_count": null,
   "id": "ee7e2bfc",
   "metadata": {},
   "outputs": [],
   "source": []
  },
  {
   "cell_type": "markdown",
   "id": "0139fbf8",
   "metadata": {},
   "source": [
    "# Handling `pydantic` errors"
   ]
  },
  {
   "cell_type": "code",
   "execution_count": 5,
   "id": "97439600",
   "metadata": {},
   "outputs": [
    {
     "name": "stdout",
     "output_type": "stream",
     "text": [
      "name='Samuel Colvin' username='scolvin' password1='zxcvbn' password2='zxcvbn'\n"
     ]
    },
    {
     "ename": "ValueError",
     "evalue": "GLY doesn't exist",
     "output_type": "error",
     "traceback": [
      "\u001b[0;31m---------------------------------------------------------------\u001b[0m",
      "\u001b[0;31mValueError\u001b[0m                    Traceback (most recent call last)",
      "\u001b[0;32m<ipython-input-5-62c3b29bec81>\u001b[0m in \u001b[0;36m<module>\u001b[0;34m\u001b[0m\n\u001b[1;32m     43\u001b[0m \u001b[0;34m\u001b[0m\u001b[0m\n\u001b[1;32m     44\u001b[0m \u001b[0;32mtry\u001b[0m\u001b[0;34m:\u001b[0m\u001b[0;34m\u001b[0m\u001b[0;34m\u001b[0m\u001b[0m\n\u001b[0;32m---> 45\u001b[0;31m     \u001b[0mprotein\u001b[0m \u001b[0;34m=\u001b[0m \u001b[0mUserModel\u001b[0m\u001b[0;34m.\u001b[0m\u001b[0mfrom_sequence\u001b[0m\u001b[0;34m(\u001b[0m\u001b[0;34m\"AlaValGLY\"\u001b[0m\u001b[0;34m)\u001b[0m\u001b[0;34m\u001b[0m\u001b[0;34m\u001b[0m\u001b[0m\n\u001b[0m\u001b[1;32m     46\u001b[0m \u001b[0;34m\u001b[0m\u001b[0m\n\u001b[1;32m     47\u001b[0m     \u001b[0;31m#UserModel(\u001b[0m\u001b[0;34m\u001b[0m\u001b[0;34m\u001b[0m\u001b[0;34m\u001b[0m\u001b[0m\n",
      "\u001b[0;32m<ipython-input-5-62c3b29bec81>\u001b[0m in \u001b[0;36mfrom_sequence\u001b[0;34m(cls, seq)\u001b[0m\n\u001b[1;32m     29\u001b[0m         \u001b[0mname\u001b[0m \u001b[0;34m=\u001b[0m \u001b[0;34m' '\u001b[0m\u001b[0;34m.\u001b[0m\u001b[0mjoin\u001b[0m\u001b[0;34m(\u001b[0m\u001b[0mseq\u001b[0m\u001b[0;34m)\u001b[0m\u001b[0;34m\u001b[0m\u001b[0;34m\u001b[0m\u001b[0m\n\u001b[1;32m     30\u001b[0m         \u001b[0;32mif\u001b[0m \u001b[0;34m'GLY'\u001b[0m \u001b[0;32min\u001b[0m \u001b[0mseq\u001b[0m\u001b[0;34m:\u001b[0m\u001b[0;34m\u001b[0m\u001b[0;34m\u001b[0m\u001b[0m\n\u001b[0;32m---> 31\u001b[0;31m             \u001b[0;32mraise\u001b[0m \u001b[0mValueError\u001b[0m\u001b[0;34m(\u001b[0m\u001b[0;34m\"GLY doesn't exist\"\u001b[0m\u001b[0;34m)\u001b[0m\u001b[0;34m\u001b[0m\u001b[0;34m\u001b[0m\u001b[0m\n\u001b[0m\u001b[1;32m     32\u001b[0m         \u001b[0;32mreturn\u001b[0m \u001b[0mcls\u001b[0m\u001b[0;34m(\u001b[0m\u001b[0mname\u001b[0m\u001b[0;34m=\u001b[0m\u001b[0mname\u001b[0m\u001b[0;34m,\u001b[0m \u001b[0musername\u001b[0m\u001b[0;34m=\u001b[0m\u001b[0;34m'blah'\u001b[0m\u001b[0;34m,\u001b[0m \u001b[0mpassword1\u001b[0m\u001b[0;34m=\u001b[0m\u001b[0;34m'foo'\u001b[0m\u001b[0;34m,\u001b[0m \u001b[0mpassword2\u001b[0m\u001b[0;34m=\u001b[0m\u001b[0;34m'bar'\u001b[0m\u001b[0;34m)\u001b[0m\u001b[0;34m\u001b[0m\u001b[0;34m\u001b[0m\u001b[0m\n\u001b[1;32m     33\u001b[0m \u001b[0;34m\u001b[0m\u001b[0m\n",
      "\u001b[0;31mValueError\u001b[0m: GLY doesn't exist"
     ]
    }
   ],
   "source": [
    "from pydantic import BaseModel, ValidationError, validator\n",
    "\n",
    "\n",
    "class UserModel(BaseModel):\n",
    "    name: str\n",
    "    username: str\n",
    "    password1: str\n",
    "    password2: str\n",
    "\n",
    "    @validator('name')\n",
    "    def name_must_contain_space(cls, v):\n",
    "        if ' ' not in v:\n",
    "            raise ValueError('must contain a space')\n",
    "        return v.title()\n",
    "\n",
    "    @validator('password2')\n",
    "    def passwords_match(cls, v, values, **kwargs):\n",
    "        if 'password1' in values and v != values['password1']:\n",
    "            raise ValueError('passwords do not match')\n",
    "        return v\n",
    "\n",
    "    @validator('username')\n",
    "    def username_alphanumeric(cls, v):\n",
    "        assert v.isalnum(), 'must be alphanumeric'\n",
    "        return v\n",
    "    \n",
    "    @classmethod\n",
    "    def from_sequence(cls, seq):\n",
    "        name = ' '.join(seq)\n",
    "        if 'GLY' in seq:\n",
    "            raise ValueError(\"GLY doesn't exist\")\n",
    "        return cls(name=name, username='blah', password1='foo', password2='bar')\n",
    "\n",
    "\n",
    "user = UserModel(\n",
    "    name='samuel colvin',\n",
    "    username='scolvin',\n",
    "    password1='zxcvbn',\n",
    "    password2='zxcvbn',\n",
    ")\n",
    "print(user)\n",
    "#> name='Samuel Colvin' username='scolvin' password1='zxcvbn' password2='zxcvbn'\n",
    "\n",
    "try:\n",
    "    protein = UserModel.from_sequence(\"AlaValGLY\")\n",
    "\n",
    "    #UserModel(\n",
    "    #    name='samuel',\n",
    "    #    username='scolvin',\n",
    "    #    password1='zxcvbn',\n",
    "    #    password2='zxcvbn2',\n",
    "    #)\n",
    "except ValidationError as e:\n",
    "    print(e)\n",
    "    \"\"\"\n",
    "    2 validation errors for UserModel\n",
    "    name\n",
    "      must contain a space (type=value_error)\n",
    "    password2\n",
    "      passwords do not match (type=value_error)\n",
    "    \"\"\""
   ]
  },
  {
   "cell_type": "code",
   "execution_count": null,
   "id": "1e99e8e8",
   "metadata": {},
   "outputs": [],
   "source": [
    "# Pre-parameterization MoSDeF molecule\n",
    "at_mol = AtomTypedMol()\n",
    "# Implementation: https://github.com/mosdef-hub/gmso/blob/3ff3829cb4bc492b41e5e520d26d35c09c5338a4/gmso/core/atom.py#L42-L60\n",
    "for mosdef_atom in mosdef_mol.atoms:\n",
    "    at_mol.add_particle/atom(element=modef_atom.element, #(optional, atoms only)\n",
    "                             name, #(required)\n",
    "                             type, # (optional, sometimes overridden by manually specified mass or charge)\n",
    "                             position=mosdef_atom.position, # (required)\n",
    "                             mass, #(sometimes contained in type)\n",
    "                             charge #(required, float, sometimes contained in type)) \n",
    "                            )\n",
    "                             \n",
    "for mosdef_bond in mosdef_mol.bond:\n",
    "    at_mol.add_bond(mosdef_bond.particle1, mosdef_bond.particle2)\n",
    "    \n",
    "# MoSDeF atoms also have angle and dihedral classes, which mostly\n",
    "# provide iterators, but ALSO have types. How will we support this\n",
    "# in AtomTypedTopology?\n"
   ]
  },
  {
   "cell_type": "code",
   "execution_count": null,
   "id": "e6da5c7f",
   "metadata": {},
   "outputs": [],
   "source": [
    "# Post-parameterization MoSDeF molecule\n",
    "at_mol = AtomTypedMol()\n",
    "for mosdef_atom in mosdef_mol.atoms:\n",
    "    at_mol.add_particle/atom(element=modef_atom.element, (optional, atoms only)\n",
    "                             type, # (optional, sometimes overridden by manually specified mass or charge)\n",
    "                             position=mosdef_atom.position,\n",
    "                             mass,\n",
    "                             charge (float)) \n",
    "\n",
    "# JBG -- The final post-parameterization Topology has links to types, which\n",
    "# conain the actual physical parameter values\n",
    "\n",
    "# What's the goal of storing an atom typed molecule?\n",
    "# Pre-parameterization: Keep the door open for having atom-type based\n",
    "# parameter assignment functionality\n",
    "\n",
    "# Post-parameterization: This will largely be the grouping and\n",
    "# identifiers that users expect when they do their trajectory analysis\n",
    "\n",
    "# JBG -- mBuild compounds contain hierarchies, but we don't yet carry\n",
    "# that forward into GMSO/simulation output formats\n",
    "# Eg image on https://mbuild.mosdef.org/en/stable/\n",
    "#In the bottom figure, you can descend through hierarchy to the individual\n",
    "# instances of the building blocks\n",
    "\n",
    "# CQ -- Currently we force this kind of thing through ParmEd, and we\n",
    "# artificially label the hierarchy in the way that ParmEd allows.\n",
    "# This sometimes requires flattening/losing information.\n",
    "# But after parameter assignment, we largely forget the rich description\n",
    "# of the hierarchy, and\n",
    "# #fix# the amount of information that is stored.\n",
    "\n",
    "# CQ -- We're thinking about the idea of using \"tags\" instead of \n",
    "# rich hierarchy"
   ]
  },
  {
   "cell_type": "code",
   "execution_count": null,
   "id": "a78aed3e",
   "metadata": {},
   "outputs": [],
   "source": [
    "hier_level_names = ['complex','l2_id', 'l3_id', 'l4_id']\n",
    "for hier_level_1 in mb_complex.hierarchy:\n",
    "    for atom in hier_level_1:\n",
    "        atom.metadata['complex'] = ...\n",
    "    for hier_level_2 in hier_level_1.hierarchy:\n",
    "        "
   ]
  }
 ],
 "metadata": {
  "kernelspec": {
   "display_name": "Python 3",
   "language": "python",
   "name": "python3"
  },
  "language_info": {
   "codemirror_mode": {
    "name": "ipython",
    "version": 3
   },
   "file_extension": ".py",
   "mimetype": "text/x-python",
   "name": "python",
   "nbconvert_exporter": "python",
   "pygments_lexer": "ipython3",
   "version": "3.8.8"
  },
  "toc": {
   "base_numbering": 1,
   "nav_menu": {
    "height": "224px",
    "width": "324px"
   },
   "number_sections": true,
   "sideBar": true,
   "skip_h1_title": false,
   "title_cell": "Table of Contents",
   "title_sidebar": "Contents",
   "toc_cell": false,
   "toc_position": {},
   "toc_section_display": true,
   "toc_window_display": false
  }
 },
 "nbformat": 4,
 "nbformat_minor": 5
}
