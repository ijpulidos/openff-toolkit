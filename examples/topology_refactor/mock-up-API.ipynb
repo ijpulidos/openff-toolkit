{
 "cells": [
  {
   "cell_type": "markdown",
   "id": "8f23f120",
   "metadata": {},
   "source": [
    "# Things we won't do\n",
    "\n",
    "* Load a structure with missing atoms\n",
    "* Check for clashes or structural errors\n",
    "* Support automatic filling in missing atoms/loops "
   ]
  },
  {
   "cell_type": "markdown",
   "id": "a8beb193",
   "metadata": {},
   "source": [
    "# User contracts\n",
    "\n",
    "* Input data should have all the hydrogens. Complete molecules.\n",
    "* Molecules can only become invalid through inplace modifications. Methods would not return invalid molecules."
   ]
  },
  {
   "cell_type": "markdown",
   "id": "d6b30259",
   "metadata": {},
   "source": [
    "# Guided example(s)"
   ]
  },
  {
   "cell_type": "code",
   "execution_count": null,
   "id": "9eebaa75",
   "metadata": {},
   "outputs": [],
   "source": [
    "# Load structures and perceive info\n",
    "# This PDB file must have explicity hydrogens\n",
    "protein = Molecule.from_pdb_file('protein.pdb')\n",
    "\n",
    "# Pick some peptide C=O bond. The bond orders have been filled in for a library of substructures.\n",
    "protein.atoms[9]\n",
    "> <Atom with name O with element O>\n",
    "\n",
    "protein.bonds[10]\n",
    "> <Bond with bond_order 2 and atom1_index 9 and atom2_index 10>\n",
    "\n",
    "print(protein.residues)\n",
    "> ALA ALA LYS ALA\n",
    "\n",
    "dna = Molecule.from_file('dna.sdf')\n",
    "dna.bonds[10]\n",
    "> <Bond with bond_order 1 and atom1_index 7 and atom2_index 11>\n",
    "\n",
    "# Note that the SDF format doesn't contain residue names or numbers\n",
    "dna.residues\n",
    "> AttributeError\n",
    "print(dna.atoms[30].metadata)\n",
    "> {}\n",
    "# This method searches a dictionary of substructures to assign common residue names and numbers\n",
    "dna.perceive_residues(nucleotides=True)\n",
    "dna.residues\n",
    "> A T C G\n",
    "print(dna.atoms[30].metadata)\n",
    "> {'residue_num':2, 'residue_name':'T', 'chain':'A'}\n",
    "\n",
    "# Where they attach\n",
    "protein_attachment = protein.mdtraj_sel('resname LYS and name CD')\n",
    "dna_attachment = dna.chemical_environment_matches('c1ccn([H:1])c1')\n",
    "# What gets removed\n",
    "protein_to_remove = protein.mdtraj_sel('resname LYS and name HD2')\n",
    "dna_to_remove = dna.chemical_environment_matches('c1ccn([H:1])c1')\n",
    "\n",
    "# Merge the two\n",
    "new_molecule = Molecule.merge_molecules(protein, dna,\n",
    "                                        protein_attachment,\n",
    "                                        dna_attachment,\n",
    "                                        protein_to_remove,\n",
    "                                        dna_to_remove,\n",
    "                                        bond_order=1, keep_metadata=False)\n",
    "\n",
    "# Clear out old hierarchy definition and re-assign residue numbers and names\n",
    "new_molecule.perceive_residues(amino_acids=True, \n",
    "                               nucleotides=True, \n",
    "                               clear_existing=True,\n",
    "                               scheme='default')\n",
    "new_molecule.residues\n",
    "> ALA ALA UNK ALA T C G"
   ]
  },
  {
   "cell_type": "markdown",
   "id": "4cbecd75",
   "metadata": {},
   "source": [
    " What if we wanted to keep the old residue names (and avoid residue `UNK`?)"
   ]
  },
  {
   "cell_type": "code",
   "execution_count": null,
   "id": "12ea74d1",
   "metadata": {},
   "outputs": [],
   "source": [
    "# Merge the two\n",
    "new_molecule = Molecule.merge_molecules(protein, dna,\n",
    "                                        protein_attachment,\n",
    "                                        dna_attachment,\n",
    "                                        protein_to_remove,\n",
    "                                        dna_to_remove,\n",
    "                                        bond_order=1, keep_metadata=True)\n",
    "\n",
    "\n",
    "# The residue numbers will now collide because we specified keep_metadata=True\n",
    "new_molecule.residues\n",
    "> ALA ALA LYS ALA A C T G\n",
    "\n",
    "new_molecule.residue(5)  # Selects atoms in 6th residue in iter, but this thinks it's residue number 3\n",
    "> <HierarchyElement with type residues with residue_num 3 residue_name C with chain A>\n",
    "\n",
    "\n",
    "# Increment the residue numbers before the merge to keep them distinct\n",
    "n_protein_res = len(protein.residues)\n",
    "for residue in dna.residues:\n",
    "    residue.residue_num += n_protein_res + 1\n",
    "    \n",
    "new_molecule = Molecule.merge_molecules(protein, dna, protein_attachment, dna_attachment, \n",
    "                                        bond_order=1, keep_metadata=True)   \n",
    "    \n",
    "# If there are two iterators with the same name we extend them\n",
    "new_molecule.residues\n",
    "> ALA ALA LYS ALA A T C G\n",
    "\n",
    "new_molecule.residue(5)  \n",
    "> <HierarchyElement with type residues with residue_num 7 residue_name C with chain A>"
   ]
  },
  {
   "cell_type": "markdown",
   "id": "b71b004f",
   "metadata": {},
   "source": [
    "Why do I keep seeing the word \"Hierarchy\"?"
   ]
  },
  {
   "cell_type": "code",
   "execution_count": null,
   "id": "ce21c827",
   "metadata": {},
   "outputs": [],
   "source": [
    "print(protein.hierarchy_schemes)\n",
    "> [<HierarchyScheme with method_name='residues' uniqueness_criteria=['chain', 'residue_num', 'residue_name']>,\n",
    "   <HierarchyScheme with method_name='chains' uniqueness_criteria=['chain']>]\n",
    "\n",
    "protein.add_hierarchy_scheme(...)\n",
    "\n"
   ]
  },
  {
   "cell_type": "markdown",
   "id": "37b5c1ef",
   "metadata": {},
   "source": [
    "How do we keep track of changes?"
   ]
  },
  {
   "cell_type": "code",
   "execution_count": null,
   "id": "be95d48c",
   "metadata": {},
   "outputs": [],
   "source": [
    "len(protein.atoms)\n",
    "> 80\n",
    "len(dna.atoms)\n",
    "> 100\n",
    "protein_attachment.hier_info['residue']\n",
    "> <HierarchyElement with type residues with residue_num 3 residue_name LYS with chain A>\n",
    "protein_attachment.index\n",
    "> 42\n",
    "dna_attachment.hier_info['residue']\n",
    "> <HierarchyElement with type residues with residue_num 1 residue_name C with chain A>\n",
    "dna_attachment.index\n",
    "> 11\n",
    "\n",
    "new_molecule = Molecule.merge_molecules(protein, dna,\n",
    "                                        protein_attachment,\n",
    "                                        dna_attachment,\n",
    "                                        protein_to_remove,\n",
    "                                        dna_to_remove,\n",
    "                                        bond_order=1, keep_metadata=True,\n",
    "                                        return_atom_maps=True\n",
    "                                       ) \n",
    "\n",
    "len(new_molecule.atoms)\n",
    "> 178\n",
    "mol1_to_new_mol_idxs\n",
    "> {0: 0, 1: 1, ..., 42: 42, 43: 43, ..., 78: 78}  # One atom was removed\n",
    "mol2_to_new_mol_idx2\n",
    "> {0: 79, 1: 80, ..., 98: 177}\n",
    "\n",
    "new_molecule.residues\n",
    "> ALA ALA LYS ALA A T C G\n"
   ]
  },
  {
   "cell_type": "markdown",
   "id": "4ed70226",
   "metadata": {},
   "source": [
    "Hybrid topology\n",
    "\n",
    "![](toluene_nitrobenzene_perses_small.png) \n",
    "![](nitro_group_with_h_small.png)"
   ]
  },
  {
   "cell_type": "code",
   "execution_count": null,
   "id": "f2c76a19",
   "metadata": {},
   "outputs": [],
   "source": [
    "new_molecule, hybrid_molecule = Molecule.merge_molecules(mol1=toluene, \n",
    "                                                         mol2=nitro_group_w_h, \n",
    "                                                         mol1_attachment_points=[6], # from diagram above \n",
    "                                                         mol2_attachment_points=[1], #the N in the nitro group\n",
    "                                                         mol1_atoms_to_delete=[7,13,14,15], #the methyl\n",
    "                                                         mol2_atoms_to_delete=[4] # a hydrogen\n",
    "                                                         bond_order=1, \n",
    "                                                         return_hybrid_molecule=True)\n",
    "type(hybrid_molecule)\n",
    "> AtomTypedMolecule\n",
    "\n",
    "hybrid_molecule.n_atoms\n",
    "> 29 \n",
    "hybrid_molecule.n_atoms == toluene.n_atoms + nitro_group_w_h.n_atoms\n",
    "> True\n",
    "\n",
    "# The methyl carbon and Hs don't map to anything in the new mol\n",
    "print([(atom.molecule_atom_index,\n",
    "        atom.metadata['mol1_index'], \n",
    "        atom.metadata['mol2_index'],\n",
    "        atom.metadata['new_molecule_index'])\n",
    "        for atom in hybrid_molecule.atoms])\n",
    "> [\n",
    "    (0,0,None,0), (1,1,None,1), ..., (6,6,None,6),               # in mol1 and new mol (& not mol2)\n",
    "    (7,7,None,None),                                             # Core atom (shared between both)\n",
    "    (8,8,None,8), ..., (12,12,None,12),                          # Hydrogens in the core/phenyl\n",
    "    (13, 13, None, None), (14, 14, None, None),                  # Only in mol1\n",
    "    (15, None, 0, 7), (16, None, 1, 13), (17, None, 2, 14),      # in mol2 and new mol (& not mol1)\n",
    "    (18, None, 3, None)                                          # Only in mol2\n",
    "]\n",
    "\n",
    "    \n"
   ]
  },
  {
   "cell_type": "code",
   "execution_count": null,
   "id": "060fc915",
   "metadata": {},
   "outputs": [],
   "source": [
    "#Molecule.from_smiles('[O-][N+](=O)[H]')"
   ]
  },
  {
   "cell_type": "markdown",
   "id": "f4cbd489",
   "metadata": {},
   "source": [
    "Having residues as molecules with and without capping.\n",
    "\n",
    "* Redirect this to RD/OE substructures"
   ]
  },
  {
   "cell_type": "markdown",
   "id": "2b42489f",
   "metadata": {},
   "source": [
    "# Reading from file\n",
    "\n",
    "Reading biopolymer molecules from files, either in `sdf` or in `pdb` formats.\n",
    "\n",
    "* from `sdf`: No residue information.\n",
    "* from `pdb`: No detailed chemical information. Bond order, formal charges, stereochemistry, etc.\n",
    "\n",
    "**Multiple molecules in single file**, so far. Molecule expected to be complete, including hydrogens."
   ]
  },
  {
   "cell_type": "markdown",
   "id": "1e31af00",
   "metadata": {},
   "source": [
    "* Load from SDF, perceive residues\n",
    "* Load from PDB, fill in details according to known residues?"
   ]
  },
  {
   "cell_type": "code",
   "execution_count": null,
   "id": "bb8744d1",
   "metadata": {},
   "outputs": [],
   "source": [
    "protein = Molecule.from_file('some_mol.sdf')\n",
    "protein.perceive_residues(pattern=['SMARTS_PATTERN', 'SMARTS_PATTERN2'])\n",
    "\n",
    "dna_helix = Molecule.from_file('some_dna.sdf')\n",
    "dna_helix.perceive_residues(nucleotides=True)\n",
    "# Do we want to differentiate deoxy with ribonucleotides?\n",
    "\n",
    "protein = Molecule.from_pdb_file('some_mol.pdb')\n",
    "\n",
    "print(protein)\n",
    "> Molecule with 5000 atoms\n",
    "\n",
    "protein = Molecule.from_pdb_file('some_mol_missing_hs.pdb')\n",
    "> IncompletePDBError: The Open Force Field Toolkit requires all \n",
    "> protons to be assigned before reading from PDB format. \n",
    "> (possibly more info here)\n",
    "\n",
    "# Perceiving residues - Should be automatic for PDB\n",
    "protein.perceive_residues()\n"
   ]
  },
  {
   "cell_type": "markdown",
   "id": "cdf2ccf9",
   "metadata": {},
   "source": [
    "Or we could have a special atom-typed object"
   ]
  },
  {
   "cell_type": "code",
   "execution_count": null,
   "id": "639807c6",
   "metadata": {},
   "outputs": [],
   "source": [
    "# Or a special atom-typed molecule\n",
    "protein = PDBMolecule.from_pdb_file('some_mol.pdb')\n",
    "print(protein)\n",
    "> <PDBMolecule ...>"
   ]
  },
  {
   "cell_type": "markdown",
   "id": "5162002e",
   "metadata": {},
   "source": [
    "Or we could have a special method for atom-typed molecules/files"
   ]
  },
  {
   "cell_type": "code",
   "execution_count": null,
   "id": "e55ee592",
   "metadata": {},
   "outputs": [],
   "source": [
    "# Or special method for PDB (atom-typed)\n",
    "protein = Molecule.from_pdbfile('some_mol.pdb')\n",
    "print(protein)\n",
    "> <Molecule with X atoms>"
   ]
  },
  {
   "cell_type": "markdown",
   "id": "b048b136",
   "metadata": {},
   "source": [
    "# Reading from sequence\n",
    "\n",
    "Reading biopolymer molecules from monomer/aa sequence string.\n",
    "\n",
    "> - What about terminal caps? \n",
    "\n",
    "**Not much of a use for this**\n",
    "\n",
    "    How to come up with conformers? Protonation? \n",
    "    How to match conformers to sequence?"
   ]
  },
  {
   "cell_type": "code",
   "execution_count": null,
   "id": "502e8ef8",
   "metadata": {},
   "outputs": [],
   "source": [
    "# from 3-letter code\n",
    "protein = Molecule.from_sequence(\"AlaValGly\", code='3-letter')\n",
    "\n",
    "# from 1-letter code (default?)\n",
    "protein = Molecule.from_sequence(\"AVQ\")\n",
    "\n",
    "print(protein)\n",
    "> Molecule with 5000 atoms\n",
    "\n",
    "# from 1-letter code (default?)\n",
    "protein = Molecule.from_sequence(\"AVQZ\")\n",
    "> UnrecognizedAAError: Unrecognized amino acid in position 3.\n",
    "# Analogous for 3-letter code. Could simply a ValueError do it?"
   ]
  },
  {
   "cell_type": "markdown",
   "id": "2f874a99",
   "metadata": {},
   "source": [
    "# Histidines Protonation states\n",
    "\n",
    "If we know the bonds orders we should be able to know the protonation state at a given pH and vice versa."
   ]
  },
  {
   "cell_type": "code",
   "execution_count": null,
   "id": "79f5458d",
   "metadata": {},
   "outputs": [],
   "source": []
  },
  {
   "cell_type": "markdown",
   "id": "b3a485cc",
   "metadata": {},
   "source": [
    "# Flexible bookkeeping and grouping\n",
    "\n",
    "Some (many?) of these things can be accomplished using some selection algebra language, as many visualizers and packages do (e.g. `name CA and resn LYS` ). We could eventually have a `to_mdtraj` as a way to use its selection language capabilities.\n"
   ]
  },
  {
   "cell_type": "markdown",
   "id": "5e8f205b",
   "metadata": {},
   "source": [
    "## Atoms"
   ]
  },
  {
   "cell_type": "code",
   "execution_count": null,
   "id": "0c876b4a",
   "metadata": {},
   "outputs": [],
   "source": [
    "protein = Molecule.from_file('protein.sdf')\n",
    "protein.atoms\n",
    "> <generator object at ... >\n"
   ]
  },
  {
   "cell_type": "markdown",
   "id": "08092c68",
   "metadata": {},
   "source": [
    "\n",
    "## Residues\n",
    "\n",
    "Residues in molecule should be iterable.\n",
    "\n",
    "**NOTE:** Do we need a `Residue` type? Would the `Molecule` type be sufficient? "
   ]
  },
  {
   "cell_type": "code",
   "execution_count": null,
   "id": "854b100a",
   "metadata": {},
   "outputs": [],
   "source": [
    "# From SDF\n",
    "protein = Molecule.from_file('protein.sdf')\n",
    "protein.atoms[10].metadata['residue_name']\n",
    "> KeyError: Whats a residue?\n",
    "protein.perceive_residues()\n",
    "protein.atoms[10].metadata['residue_name']\n",
    "> ALA\n",
    "protein.atoms[10].metadata['residue_num']\n",
    "> 2\n",
    "\n",
    "# From PDB\n",
    "protein_from_pdb = Molecule.from_pdb_file('protein.pdb')\n",
    "protein_from_pdb.atoms[10].metadata['residue_name']\n",
    "> ALA\n",
    "\n"
   ]
  },
  {
   "cell_type": "code",
   "execution_count": null,
   "id": "969c74d3",
   "metadata": {},
   "outputs": [],
   "source": [
    "protein.perceive_hierarchy(['residues', 'chains'])\n",
    "type(protein.residues[10])\n",
    "> <HierarchyElement of type residues with id ('A', 10, 'ALA') ...>\n",
    "dir(protein.residues[10])\n",
    "> [atoms, chain, residue_num, residue_name]\n",
    "protein.residues[10].atoms\n",
    "[150, 151, 152... 171]\n",
    "protein.atoms[150].hier_info['residues']\n",
    "> <HierarchyElement of type residues with id ('A', 10, 'ALA') ...>\n",
    "protein.atoms[150].hier_info['chains']\n",
    "> <HierarchyElement of type chain with id ('A',) ...>\n",
    "\n",
    "# The user is allowed to shoot themself in the foot, and use the public API to fix it\n",
    "protein.residues[10].atoms.append(900)\n",
    "protein.residues[10].atoms\n",
    "[150, 151, 152... 171, 900]\n",
    "protein.atoms[900].hier_info['residues'] = protein.residues[10]\n",
    "\n",
    "# manually modifying a residue can also get the backreferences broken\n",
    "protein.residues[10].atoms = protein.residues[10].atoms[1:]\n",
    "protein.atoms[150].hier_info['residues']\n",
    "> <HierarchyElement of type residues with id ('A', 10, 'ALA') ...>\n",
    "# fix\n",
    "del protein.atoms[150].hier_info['residues']\n",
    "\n",
    "# What if there's some special hand-modifications already performed, but the user has added something \n",
    "# new and wants that to have only the new parts to have their hierarchy percieved?\n",
    "protein.perceive_hierarchy()"
   ]
  },
  {
   "cell_type": "markdown",
   "id": "137f8786",
   "metadata": {},
   "source": [
    "* Support iteration over `Biopolymer.residues` when residues are separated by\n",
    "    * resname/residue + resnum/resid"
   ]
  },
  {
   "cell_type": "code",
   "execution_count": null,
   "id": "c276fc70",
   "metadata": {},
   "outputs": [],
   "source": [
    "protein.residues\n",
    "> <generator object residues at 0x7f7268acecf0>\n",
    "\n",
    "residues_list = []\n",
    "for residue in protein.residues:\n",
    "    residues_list.append(residue)\n",
    "\n",
    "print(residues_list)\n",
    "> [<Residue ABC, ID1>, ..., <Residue XYZ, IDN>]"
   ]
  },
  {
   "cell_type": "code",
   "execution_count": null,
   "id": "4fccd4eb",
   "metadata": {},
   "outputs": [],
   "source": [
    "print(protein.hierarchy_schemes)\n",
    "> [<HierarchyScheme with method_name='residues' uniqueness_criteria=['chain', 'residue_num', 'residue_name']>,\n",
    "   <HierarchyScheme with method_name='chains' uniqueness_criteria=['chain']>]\n",
    "\n",
    "protein.add_hierarchy_scheme(...)\n",
    "\n"
   ]
  },
  {
   "cell_type": "markdown",
   "id": "abf66ea6",
   "metadata": {},
   "source": [
    "We should expose only the setters defined by the hierarchy scheme"
   ]
  },
  {
   "cell_type": "code",
   "execution_count": null,
   "id": "0b0342c7",
   "metadata": {},
   "outputs": [],
   "source": [
    "# Using the hierarchy scheme above\n",
    "protein.perceive_hierarchy(scheme=['residues'])\n",
    "protein.residues[10]\n",
    "> <HierarchyElement of type \"residues\" with id ('A','11','ALA') with residue_num 11, chain A, residue_name ALA>\n",
    "protein.residues[('A','11','ALA')]\n",
    "> <HierarchyElement of type \"residues\" with id ('A','11','ALA') with residue_num 11, chain A, residue_name ALA>\n",
    "\n",
    "\n",
    "\n",
    "protein.residues[10].residue_name\n",
    "> ALA\n",
    "protein.residues[10].residue_num\n",
    "> 2\n",
    "protein.residues[10].chain\n",
    "> 0\n",
    "or \n",
    "> \"A\"\n",
    "protein.residues[10].residue_name = \"LYS\"\n",
    "protein.residues[10].residue_name\n",
    "> LYS\n",
    "protein.residues[10].residue_num = 5\n",
    "protein.residues[10].residue_num\n",
    "> 5\n",
    "\n",
    "\n",
    "# Now Change the hierarchy scheme -- What does it do with the previous hierarchy metadata?\n",
    "protein.perceive_hierarchy(scheme=['chains'])\n",
    "[*protein.chains]\n",
    "> SomeSortOfDictyList[<HierarchyElement of type \"chains\" with id \"A\" with chain A>]\n",
    "protein.chains[0]\n",
    "> <HierarchyElement of type \"chains\" with id \"A\" with chain A>\n",
    "protein.chains['A']\n",
    "> <HierarchyElement of type \"chains\" with id \"A\" with chain A>\n",
    "\n",
    "protein.residues[10].chain = 'B'\n",
    "protein.residues[10].chain\n",
    "> \"B\"\n",
    "\n",
    "# Option 1 -- Let's do this one!\n",
    "protein.chains['B']\n",
    "> KeyError\n",
    "protein.perceive_hierarchy(scheme=['chains'])\n",
    "protein.chains['B']\n",
    "> <HierarchyElement of type \"chains\" with id \"B\" with chain B>\n",
    "\n",
    "# Option 2 -- This is probably bad, because it means the hierarchies are silently being re-percieved in the\n",
    "# background, which could screw with things that the user manually set\n",
    "protein.chains['B']\n",
    "> <HierarchyElement of type \"chains\" with id \"B\" with chain B>\n",
    "\n",
    "\n",
    "\n",
    "protein.chains['A'].chain = 'B'\n",
    "[*protein.chains]\n",
    "> SomeSortOfDictyList[<HierarchyElement of type \"chains\" with id \"B\" with chain B>]\n",
    "\n"
   ]
  },
  {
   "cell_type": "code",
   "execution_count": null,
   "id": "54519b6a",
   "metadata": {},
   "outputs": [],
   "source": [
    "protein.residues[10]\n",
    "> <HierarchyElement of type \"residues\" with id ('A','11','ALA') with residue_num 11, chain A, residue_name ALA>\n",
    "\n",
    "protein.residues[('A','11','ALA')]\n",
    "> <HierarchyElement of type \"residues\" with id ('A','11','ALA') with residue_num 11, chain A, residue_name ALA>\n",
    "\n",
    "protein.residues[10].chain\n",
    "> A\n",
    "protein.residues[10].chain='Z'\n",
    "protein.residues[10].chain\n",
    "> A\n",
    "protein.residues[-1].chain\n",
    "> Z\n",
    "\n",
    "protein.residues[('A','11','ALA')]\n",
    "> KeyError\n",
    "\n",
    "protein.residues[10]\n",
    "> <HierarchyElement of type \"residues\" with id ('A','12','HIS') with residue_num 12, chain A, residue_name HIS>\n",
    "\n",
    "protein.residues[('Z','11','ALA')]\n",
    "> <HierarchyElement of type \"residues\" with id ('Z','11','ALA') with residue_num 11, chain Z, residue_name ALA>\n",
    "protein.residues[-1]\n",
    "> <HierarchyElement of type \"residues\" with id ('Z','11','ALA') with residue_num 11, chain Z, residue_name ALA>\n"
   ]
  },
  {
   "cell_type": "markdown",
   "id": "51b74734",
   "metadata": {},
   "source": [
    "Drawbacks of the above approach\n",
    "* It is dangerous to allow integer-based access to hierarchy-lists, since they can go out of date\n",
    "    * Maybe only expose iterator?\n",
    "    * Should we expose subscriptable access at all? (allow `protein.chains[('A',)]`?). Or only allow acces via things like `protein.select_residues`?\n",
    "* It is dangerous to allow atom-level metadata assignment though HierarchyElements, since they can change the groupings\n",
    "* \n",
    "\n",
    "Possible future ideas?\n",
    "* Allow hierarchies within hierarchies? `protein.chains['A'].residues`?"
   ]
  },
  {
   "cell_type": "markdown",
   "id": "5ce9c305",
   "metadata": {},
   "source": [
    "### Nonstandard residue handling"
   ]
  },
  {
   "cell_type": "markdown",
   "id": "a0c93f6c",
   "metadata": {},
   "source": [
    "* Detect unnatural AA and assign parameters, gracefully handle backbone interface w/ natural AAs\n",
    "* Modified AA becomes a single residue\n",
    "* Modified AA becomes several residues (maybe one for each monosaccharide)\n",
    "\n",
    "What if the lipid is attached in more than one site? "
   ]
  },
  {
   "cell_type": "code",
   "execution_count": null,
   "id": "85a7f851",
   "metadata": {},
   "outputs": [],
   "source": [
    "protein = Molecule.from_file('protein.sdf')\n",
    "lipid = Molecule.from_file('lipid.sdf')\n",
    "\n",
    "print(protein.atoms[10].metadata['resname'])\n",
    "> KeyError: \n",
    "\n",
    "protein.perceive_residues(skip_hierarchy=True)\n",
    "print(protein.atoms[10].metadata['resname'])\n",
    "> ALA\n",
    "\n",
    "protein.residues\n",
    "> AttributeError\n",
    "\n",
    "protein.perceive_hierarchy()  # Exposes iterables\n",
    "protein.residues\n",
    "> ALA ALA LYS GLU\n",
    "\n",
    "protein_attachment_h = protein.mdtraj_sel('resname LYS and name HD2')[0]\n",
    "lipid_attachment_h = lipid.mdtraj.sel('name H1')[0]\n",
    "# This would end up with \"invalid\" mols -- get rid of it\n",
    "# protein.delete_atom(protein_attachment_h)\n",
    "# lipid.delete_atom(lipid_attachment_h)\n",
    "#add a new bond between the atoms that had their Hs removed\n",
    "#protein.add_bond(protein_attachment_h-1, lipid_attachment_h-1) \n",
    "\n",
    "new_molecule = Molecule.merge_molecules(protein, lipid, protein_attachment_h, lipid_attachment_h, \n",
    "                                        bond_order=1, keep_metadata=False)\n",
    "\n",
    "# Scheme is how to handle unknown regions of the molecule\n",
    "# e.g. The modified region becomes a single unknown residue\n",
    "new_molecule.perceive_hierarchy(scheme='default')\n",
    "\n",
    "\n",
    "print([*new_molecule.residues])\n",
    "> ALA, ALA, UNK, GLU\n",
    "\n",
    "new_molecule.clear_hierarchy()\n",
    "# Different scheme. The modified region tries to retain the original res label\n",
    "new_molecule.perceive_hierarchy(scheme='separate_ptms')\n",
    "print([*new_molecule.residues])\n",
    "> ALA, ALA, LYS, LIP, GLU\n",
    "\n",
    "\n",
    "\n",
    "# change atom properties/data\n",
    "protein.atoms[10].metadata['resname'] = 'GLU'\n",
    "protein.atoms[10].update_metadata(key='resname', value='GLU')"
   ]
  },
  {
   "cell_type": "markdown",
   "id": "e2bdf014",
   "metadata": {},
   "source": [
    "Merge_molecules should optionally return a mapping from the original atom indices to the new ones"
   ]
  },
  {
   "cell_type": "code",
   "execution_count": null,
   "id": "3f9df6b8",
   "metadata": {},
   "outputs": [],
   "source": [
    "len(protein.atoms)\n",
    "> 10000\n",
    "len(dna.atoms)\n",
    "> 5000\n",
    "protein_attachment\n",
    "> <Atom with name H with element H>\n",
    "dna_attachment\n",
    "new_molecule, mol1_to_new_mol_idxs, mol2_to_new_mol_idx2 = Molecule.merge_molecules(protein, \n",
    "                                                                                    lipid, \n",
    "                                                                                    protein_attachment_h, \n",
    "                                                                                    lipid_attachment_h, \n",
    "                                                                                    bond_order=1, \n",
    "                                                                                    keep_metadata=False, \n",
    "                                                                                    return_atom_maps=True)\n",
    "mol1_to_new_mol_idxs\n",
    "> {0: 0, 1:1, ..., 9999:9999}\n",
    "mol2_to_new_mol_idx2\n",
    "> {0:, 1:, ..., 4999:}"
   ]
  },
  {
   "cell_type": "markdown",
   "id": "f4b94ad8",
   "metadata": {},
   "source": [
    "Get residues given IDs"
   ]
  },
  {
   "cell_type": "code",
   "execution_count": null,
   "id": "dc934e19",
   "metadata": {},
   "outputs": [],
   "source": [
    "protein.select_residues(resid=23)\n",
    "> [<Residue GLY, 23>]\n",
    "\n",
    "# Do we want to be able to get groups of residues? (what about getting atoms from these?)\n",
    "protein.select_residues(resid=[23, 72, 12])\n",
    "> [<Residue GLY, 23>, <Residue GLY, 23>, <Residue GLY, 23>]  # Maybe this should be a generator"
   ]
  },
  {
   "cell_type": "markdown",
   "id": "13340093",
   "metadata": {},
   "source": [
    "Get the atoms from a given residue ID. Then the `Atom` must have some `resid` attribute?"
   ]
  },
  {
   "cell_type": "code",
   "execution_count": null,
   "id": "2a4e41c2",
   "metadata": {},
   "outputs": [],
   "source": [
    "protein.select_residues(resid=23).atoms\n",
    "> [<Atom name='' atomic number='6' resid='23'>, <Atom name='' atomic number='7' resid='23'>, \n",
    "   ..., <Atom name='' atomic number='1' resid='23'>]\n",
    "\n",
    "# Do we want to be able to get groups of residues? (what about getting atoms from these?)\n",
    "protein.select_residues(resid=[23, 72, 12]).atoms\n",
    "> [\n",
    "    [<Atom name='' atomic number='6' resid='23'>, ..., <Atom name='' atomic number='1' resid='23'>],\n",
    "    [<Atom name='' atomic number='6' resid='72'>, ..., <Atom name='' atomic number='1' resid='72'>],\n",
    "    [<Atom name='' atomic number='6' resid='12'>, ..., <Atom name='' atomic number='1' resid='12'>]\n",
    "]"
   ]
  },
  {
   "cell_type": "markdown",
   "id": "b0332ce4",
   "metadata": {},
   "source": [
    "Get all residues matching a name"
   ]
  },
  {
   "cell_type": "code",
   "execution_count": null,
   "id": "5f412ea5",
   "metadata": {},
   "outputs": [],
   "source": [
    "protein.select_residues(name=\"LYS\")\n",
    "> [<Residue LYS, 3>, <Residue LYS, 21>, ..., <Residue LYS, 344>]"
   ]
  },
  {
   "cell_type": "markdown",
   "id": "2ee58192",
   "metadata": {},
   "source": [
    "Renaming/transforming residues. \n",
    "\n",
    "> Should be just a metadata change"
   ]
  },
  {
   "cell_type": "code",
   "execution_count": null,
   "id": "604a55f9",
   "metadata": {},
   "outputs": [],
   "source": [
    "protein.select_residues(resid=23)[0].name\n",
    "> \"GLY\"\n",
    "protein.select_residues(resid=23)[0].name = \"LYS\"\n",
    "protein.select_residues(resid=23)[0].name\n",
    "> \"LYS\"\n",
    "protein.select_residues(resid=23)\n",
    "> [<Residue LYS, 23>]\n",
    "protein.select_residues(resid=23)[0].name = \"WAT\"\n",
    "> \n",
    "protein.select_residues(resid=23)[0].name \n",
    "> \"WAT\"\n",
    "\n",
    "# Do we want to be able to rename groups of residues?\n",
    "# Then we need to match shapes/lengths -- is it getting out of control?\n",
    "protein.select_residues(resid=[23, 72, 12]).name\n",
    "> [\"GLY\", \"ARG\", \"TYR\"]\n",
    "protein.select_residues(resid=[23, 72, 12]).name = [\"LYS\", \"VAL\", \"CYS\"]\n",
    "protein.select_residues(resid=[23, 72, 12]).name\n",
    "> [\"LYS\", \"VAL\", \"CYS\"]"
   ]
  },
  {
   "cell_type": "markdown",
   "id": "9a541afd",
   "metadata": {},
   "source": [
    "We should be able to see numbers/ids and atoms"
   ]
  },
  {
   "cell_type": "code",
   "execution_count": null,
   "id": "79c0cf29",
   "metadata": {},
   "outputs": [],
   "source": [
    "protein.select_residues(resid=23)[0]."
   ]
  },
  {
   "cell_type": "markdown",
   "id": "c8c39f87",
   "metadata": {
    "jupyter": {
     "source_hidden": true
    },
    "tags": []
   },
   "source": [
    "## Chains/Segments\n",
    "\n",
    "We want to be able to group or cluster chains.\n",
    "\n",
    "> Do we want a `Chain` class?\n",
    "\n",
    "Assuming that you have multiple chains in your input files.\n",
    "\n",
    "Chains should be iterable."
   ]
  },
  {
   "cell_type": "code",
   "execution_count": null,
   "id": "70255292",
   "metadata": {
    "jupyter": {
     "source_hidden": true
    },
    "tags": []
   },
   "outputs": [],
   "source": [
    "protein = Molecule.from_file('protein.sdf')\n",
    "protein.chains\n",
    "> AttributeError: ...\n",
    "protein.perceive_chains()\n",
    "protein.chains\n",
    "> ['A', 'B', ...,  'Z', '0', ..., '9']\n",
    "protein.group_by(key='chains', values=['A', 'B'])\n",
    "> AtomGroup"
   ]
  },
  {
   "cell_type": "code",
   "execution_count": null,
   "id": "1ed35848",
   "metadata": {
    "jupyter": {
     "source_hidden": true
    },
    "tags": []
   },
   "outputs": [],
   "source": [
    "protein = Molecule.from_file('protein.sdf')\n",
    "protein.atoms[10].metadata['chain']\n",
    "> 'B'"
   ]
  },
  {
   "cell_type": "markdown",
   "id": "3aa12137",
   "metadata": {},
   "source": [
    "## Molecule vs. Topology hierarchies"
   ]
  },
  {
   "cell_type": "code",
   "execution_count": null,
   "id": "9c23460c",
   "metadata": {},
   "outputs": [],
   "source": [
    "protein1 = Molecule.from_pdb_file('protein1.pdb')\n",
    "protein1.residues\n",
    "> ALA ALA LYS GLU\n",
    "protein1.chains\n",
    "> B\n",
    "\n",
    "protein1._data.hierarchies\n",
    "> [[<HierarchyScheme \"residues\">, [<HierarchyElement of type residue with id B 1 ALA>,\n",
    "                                   <HierarchyElement of type residue with id B 2 ALA>,\n",
    "                                   <HierarchyElement of type residue with id B 3 LYS>,\n",
    "                                   <HierarchyElement of type residue with id B 4 GLU>,]],\n",
    "   [<HierarchyScheme \"chains\">, [<HierarchyElement of type chain with id B>]\n",
    "   ]]\n",
    "\n",
    "protein1._data.hierarchies[0][0]                             \n",
    "> <HierarchyElement of type residue with id B 1 ALA>\n",
    "protein1._data.hierarchies[0][0].atoms\n",
    "> [0,1,2,3,4,5,6,7,8,9,10,11,12,13,14,15]\n",
    "\n",
    "protein1.atoms[0].metadata\n",
    "> {'residue_name': 'ALA', 'residue_num': 1, 'chain': 'A'}\n",
    "\n",
    "\n",
    "protein2 = Molecule.from_file('protein2.sdf')\n",
    "protein2.perceive_residues()\n",
    "protein2.residues\n",
    "> TYR GLU ALA PHE\n",
    "protein2.chains\n",
    "> A\n",
    "\n",
    "top = Topology.from_molecules([protein1, protein2])\n",
    "\n",
    "top.topology_molecules\n",
    "> [<TopologyMolecule with ref_mol protein1> <TopologyMolecule with ref_mol protein2>]\n",
    "\n",
    "# When adding a molecule to a topology, hierarchy is TRANSFERRED from the Molecule, to the TopologyMolecule\n",
    "# Existing hierarchies are ALWAYS iterated in TopologyMolecule order\n",
    "top.residues\n",
    "> ALA ALA LYS GLU TYR GLU ALA PHE\n",
    "\n",
    "top.chains\n",
    "> B A\n",
    "\n",
    "# protein1 and protein2 are now completely decoupled from the topology, only a COPY of each was added\n",
    "\n",
    "top.reference_molecules[0].residues\n",
    "> AttributeError\n",
    "top.reference_molecules[0]._data.hierarchies\n",
    "> []\n",
    "top.reference_molecules[0].atoms.metadata\n",
    "> {}\n",
    "\n",
    "# All of the metadata and hierarchy info was NOT COPIED to the reference molecule/atoms \n",
    "# and instead is COPIED to the TopologyMolecule/atoms\n",
    "top.topology_molecules[0].residues\n",
    "> ALA ALA LYS GLU\n",
    "top.topology_molecules[0]._data.hierarchieaaaas\n",
    "> (all the stuff about residues and chains)\n",
    "top.topology_molecules[0].topology_atoms[0].metadata\n",
    "> {'residue_name': 'ALA', 'residue_num': 1, 'chain': 'A'}\n",
    "\n",
    "\n",
    "# Let's say we want to add another copy of protein1 to the topology, but with a different chain\n",
    "protein1.chains[0].chain = 'C'\n",
    "protein1.perceive_hierarchy(clear_existing=True)\n",
    "top.add_molecule(protein1)\n",
    "top.residues\n",
    "> ALA ALA LYS GLU TYR GLU ALA PHE ALA ALA LYS GLU\n",
    "# < ^protein1^  > <  ^protein2^ > <  ^protein1^ >\n",
    "top.chains\n",
    "> B A C\n",
    "   \n",
    "        "
   ]
  },
  {
   "cell_type": "code",
   "execution_count": null,
   "id": "fa92560d-98d1-4214-b00f-5656e697d6de",
   "metadata": {
    "jupyter": {
     "source_hidden": true
    },
    "tags": []
   },
   "outputs": [],
   "source": [
    "class TopologyData(pydantic.BaseModel):\n",
    "    topology_molecules : Iterable[TopologyMolecule] = []\n",
    "    ...\n",
    "class TopologyMoleculeData(pydantic.BaseModel):\n",
    "    hierarchies : List[List[HierarchyScheme, List[HierarchyElement]]]\n",
    "\n",
    "class Topology:\n",
    "    ...\n",
    "    \n",
    "    def residues():\n",
    "        for top_mol in self.topology_molecules:\n",
    "            if hasattr(top_mol, 'residues'):\n",
    "                for residue in top_mol.residues:\n",
    "                    yield residue"
   ]
  },
  {
   "cell_type": "markdown",
   "id": "a1fa3775",
   "metadata": {},
   "source": [
    "## Example. Protein - DNA merging"
   ]
  },
  {
   "cell_type": "markdown",
   "id": "5f24593d",
   "metadata": {
    "jupyter": {
     "source_hidden": true
    },
    "tags": []
   },
   "source": [
    "We expect coordinates of both molecules to be in the same frame of reference.\n",
    "\n",
    "* Attach a cofactor like heme, which connects to 4 other residues"
   ]
  },
  {
   "cell_type": "code",
   "execution_count": null,
   "id": "e31a978e",
   "metadata": {
    "jupyter": {
     "source_hidden": true
    },
    "tags": []
   },
   "outputs": [],
   "source": [
    "# Load structures and perceive info\n",
    "protein = Molecule.from_file('protein.sdf')\n",
    "dna = Molecule.from_file('dna.sdf')\n",
    "protein.perceive_residues()\n",
    "protein.residues\n",
    "> ALA ALA LYS ALA\n",
    "dna.perceive_residues(nucleotides=True)\n",
    "dna.residues\n",
    "> A T C G\n",
    "# Where they attach\n",
    "protein_attachment = protein.mdtraj_sel('resname LYS and name HD2')[0]\n",
    "dna_attachment = dna.chemical_environment_matches('c1ccn([H:1])c1')[0]\n",
    "# Merge the two\n",
    "new_molecule = Molecule.merge_molecules(protein, dna, protein_attachment, dna_attachment, \n",
    "                                        bond_order=1, keep_metadata=True)\n",
    "                                        # What metadata to keep then?\n",
    "new_molecule.residues\n",
    "> ALA ALA LYS ALA A T C G\n",
    "new_molecule.residue(5)  # Selects atoms in 6th residue in iter\n",
    "> T\n",
    "\n",
    "new_molecule.perceive_residues(amino_acids=True, \n",
    "                               nucleotides=True, \n",
    "                               clear_existing=True,\n",
    "                               scheme='default')\n",
    "new_molecule.residues\n",
    "> ALA ALA UNK ALA T C G\n",
    "or\n",
    "> ALA ALA UNK T ALA C G"
   ]
  },
  {
   "cell_type": "markdown",
   "id": "1060f637",
   "metadata": {
    "jupyter": {
     "source_hidden": true
    },
    "tags": []
   },
   "source": [
    "Can a atom be in more than one residue/HierarchyElement?\n",
    "\n",
    "Will an atom have a pointer to its residue/HierarchyElement?\n",
    "* DD -- In MDAnalysis, to keepthings organized and valid, we made the hierarchies very strict. Eg, every atom was a member of exactly one residue, residues were part of a chain. Then there were just a few tables, and it was trivial to check whether they were consistent/valid. \n",
    "* JW -- This may be too inflexible for our use cases and the variety of users we'll have. "
   ]
  },
  {
   "cell_type": "markdown",
   "id": "0b93c51c",
   "metadata": {
    "jupyter": {
     "source_hidden": true
    },
    "tags": []
   },
   "source": [
    "What if we want no residue information on DNA"
   ]
  },
  {
   "cell_type": "code",
   "execution_count": null,
   "id": "44796860",
   "metadata": {
    "jupyter": {
     "source_hidden": true
    },
    "tags": []
   },
   "outputs": [],
   "source": [
    "# Load structures and perceive info - No residues for DNA\n",
    "protein = Molecule.from_file('protein.sdf')\n",
    "dna = Molecule.from_file('dna.sdf')\n",
    "protein.perceive_residues()\n",
    "protein.residues\n",
    "> ALA ALA LYS ALA\n",
    "dna.residues\n",
    "> AttributeError\n",
    "# Where they attach\n",
    "protein_attachment = protein.mdtraj_sel('resname LYS and name HD2')[0]\n",
    "dna_attachment = dna.chemical_environment_matches('c1ccn([H:1])c1')[0]\n",
    "# Merge the two\n",
    "new_molecule = Molecule.merge_molecules(protein, dna, protein_attachment, dna_attachment, \n",
    "                                        bond_order=1, keep_metadata=True)\n",
    "                                        # What metadata to keep then?\n",
    "new_molecule.residues\n",
    "> ALA ALA LYS ALA   # Note the difference here\n",
    "new_molecule.residue(5)  # Selects atoms in 6th residue in iter\n",
    "> IndexError: ...\n",
    "new_molecule.residue(3)\n",
    "> ALA\n",
    "\n",
    "new_molecule.perceive_residues(amino_acids=True, \n",
    "                               nucleotides=True, \n",
    "                               clear_existing=True,\n",
    "                               scheme='default')\n",
    "new_molecule.residues\n",
    "> ALA ALA UNK ALA T C G\n",
    "or\n",
    "> ALA ALA UNK T ALA C G\n"
   ]
  },
  {
   "cell_type": "markdown",
   "id": "0cff36d8",
   "metadata": {
    "jupyter": {
     "source_hidden": true
    },
    "tags": []
   },
   "source": [
    "If we have multiple attachment sites do we just run `merge_molecules` multiple times?"
   ]
  },
  {
   "cell_type": "markdown",
   "id": "6cab3c15",
   "metadata": {},
   "source": [
    "# Modifications\n",
    "\n",
    "## Adding/removing atoms\n",
    "\n",
    "* Change protonation state of a residue"
   ]
  },
  {
   "cell_type": "code",
   "execution_count": null,
   "id": "ed0159fd",
   "metadata": {
    "jupyter": {
     "source_hidden": true
    },
    "tags": []
   },
   "outputs": [],
   "source": [
    "mol = Molecule.from_file('protein.sdf')\n",
    "mol.perceive_residues()\n",
    "mol.residue(6)\n",
    "> Residue ALA / AtomGroup with 15 atoms with index 90-105\n",
    "new_idx = mol.add_atom(atomic_number=99, \n",
    "                       formal_charge=0, \n",
    "                       sterochemistry=None)\n",
    "mol.add_bond(100, new_idx, bond_order=1, stereochemistry=None)\n",
    "# EITHER\n",
    "mol.remove_bond(100, 101)\n",
    "mol.remove_atom(101)\n",
    "# OR\n",
    "mol.remove_atom(101)\n",
    "\n",
    "mol.residue(6)\n",
    "> Residue ALA / AtomGroup with 14 atoms\n",
    "\n",
    "mol.perceive_residues()\n",
    "mol.residue(6)\n",
    "> Residue UNK / AtomGroup with 15 atoms\n",
    "\n"
   ]
  },
  {
   "cell_type": "markdown",
   "id": "4c0e159c",
   "metadata": {},
   "source": [
    "# Handling bonds"
   ]
  },
  {
   "cell_type": "code",
   "execution_count": null,
   "id": "c64eb5de",
   "metadata": {
    "jupyter": {
     "source_hidden": true
    },
    "tags": []
   },
   "outputs": [],
   "source": []
  },
  {
   "cell_type": "markdown",
   "id": "389b5327",
   "metadata": {},
   "source": [
    "# Handling `pydantic` errors"
   ]
  },
  {
   "cell_type": "code",
   "execution_count": null,
   "id": "aeb85a96",
   "metadata": {
    "jupyter": {
     "source_hidden": true
    },
    "tags": []
   },
   "outputs": [],
   "source": [
    "from pydantic import BaseModel, ValidationError, validator\n",
    "\n",
    "\n",
    "class UserModel(BaseModel):\n",
    "    name: str\n",
    "    username: str\n",
    "    password1: str\n",
    "    password2: str\n",
    "\n",
    "    @validator('name')\n",
    "    def name_must_contain_space(cls, v):\n",
    "        if ' ' not in v:\n",
    "            raise ValueError('must contain a space')\n",
    "        return v.title()\n",
    "\n",
    "    @validator('password2')\n",
    "    def passwords_match(cls, v, values, **kwargs):\n",
    "        if 'password1' in values and v != values['password1']:\n",
    "            raise ValueError('passwords do not match')\n",
    "        return v\n",
    "\n",
    "    @validator('username')\n",
    "    def username_alphanumeric(cls, v):\n",
    "        assert v.isalnum(), 'must be alphanumeric'\n",
    "        return v\n",
    "    \n",
    "    @classmethod\n",
    "    def from_sequence(cls, seq):\n",
    "        name = ' '.join(seq)\n",
    "        if 'GLY' in seq:\n",
    "            raise ValueError(\"GLY doesn't exist\")\n",
    "        return cls(name=name, username='blah', password1='foo', password2='bar')\n",
    "\n",
    "\n",
    "user = UserModel(\n",
    "    name='samuel colvin',\n",
    "    username='scolvin',\n",
    "    password1='zxcvbn',\n",
    "    password2='zxcvbn',\n",
    ")\n",
    "print(user)\n",
    "#> name='Samuel Colvin' username='scolvin' password1='zxcvbn' password2='zxcvbn'\n",
    "\n",
    "try:\n",
    "    protein = UserModel.from_sequence(\"AlaValGLY\")\n",
    "\n",
    "    #UserModel(\n",
    "    #    name='samuel',\n",
    "    #    username='scolvin',\n",
    "    #    password1='zxcvbn',\n",
    "    #    password2='zxcvbn2',\n",
    "    #)\n",
    "except ValidationError as e:\n",
    "    print(e)\n",
    "    \"\"\"\n",
    "    2 validation errors for UserModel\n",
    "    name\n",
    "      must contain a space (type=value_error)\n",
    "    password2\n",
    "      passwords do not match (type=value_error)\n",
    "    \"\"\""
   ]
  },
  {
   "cell_type": "markdown",
   "id": "cc94eb83",
   "metadata": {
    "tags": []
   },
   "source": [
    "# From MoSDeF meeting (notes)"
   ]
  },
  {
   "cell_type": "code",
   "execution_count": null,
   "id": "584da363",
   "metadata": {
    "jupyter": {
     "source_hidden": true
    },
    "tags": []
   },
   "outputs": [],
   "source": [
    "# Pre-parameterization MoSDeF molecule\n",
    "at_mol = AtomTypedMol()\n",
    "# Implementation: https://github.com/mosdef-hub/gmso/blob/3ff3829cb4bc492b41e5e520d26d35c09c5338a4/gmso/core/atom.py#L42-L60\n",
    "for mosdef_atom in mosdef_mol.atoms:\n",
    "    at_mol.add_particle/atom(element=modef_atom.element, #(optional, atoms only)\n",
    "                             name, #(required)\n",
    "                             type, # (optional, sometimes overridden by manually specified mass or charge)\n",
    "                             position=mosdef_atom.position, # (required)\n",
    "                             mass, #(sometimes contained in type)\n",
    "                             charge #(required, float, sometimes contained in type)) \n",
    "                            )\n",
    "                             \n",
    "for mosdef_bond in mosdef_mol.bond:\n",
    "    at_mol.add_bond(mosdef_bond.particle1, mosdef_bond.particle2)\n",
    "    \n",
    "# MoSDeF atoms also have angle and dihedral classes, which mostly\n",
    "# provide iterators, but ALSO have types. How will we support this\n",
    "# in AtomTypedTopology?\n"
   ]
  },
  {
   "cell_type": "code",
   "execution_count": null,
   "id": "7d765d7e",
   "metadata": {
    "jupyter": {
     "source_hidden": true
    },
    "tags": []
   },
   "outputs": [],
   "source": [
    "# Post-parameterization MoSDeF molecule\n",
    "at_mol = AtomTypedMol()\n",
    "for mosdef_atom in mosdef_mol.atoms:\n",
    "    at_mol.add_particle/atom(element=modef_atom.element, (optional, atoms only)\n",
    "                             type, # (optional, sometimes overridden by manually specified mass or charge)\n",
    "                             position=mosdef_atom.position,\n",
    "                             mass,\n",
    "                             charge (float)) \n",
    "\n",
    "# JBG -- The final post-parameterization Topology has links to types, which\n",
    "# conain the actual physical parameter values\n",
    "\n",
    "# What's the goal of storing an atom typed molecule?\n",
    "# Pre-parameterization: Keep the door open for having atom-type based\n",
    "# parameter assignment functionality\n",
    "\n",
    "# Post-parameterization: This will largely be the grouping and\n",
    "# identifiers that users expect when they do their trajectory analysis\n",
    "\n",
    "# JBG -- mBuild compounds contain hierarchies, but we don't yet carry\n",
    "# that forward into GMSO/simulation output formats\n",
    "# Eg image on https://mbuild.mosdef.org/en/stable/\n",
    "#In the bottom figure, you can descend through hierarchy to the individual\n",
    "# instances of the building blocks\n",
    "\n",
    "# CQ -- Currently we force this kind of thing through ParmEd, and we\n",
    "# artificially label the hierarchy in the way that ParmEd allows.\n",
    "# This sometimes requires flattening/losing information.\n",
    "# But after parameter assignment, we largely forget the rich description\n",
    "# of the hierarchy, and\n",
    "# #fix# the amount of information that is stored.\n",
    "\n",
    "# CQ -- We're thinking about the idea of using \"tags\" instead of \n",
    "# rich hierarchy"
   ]
  },
  {
   "cell_type": "code",
   "execution_count": null,
   "id": "baa0c906",
   "metadata": {
    "jupyter": {
     "source_hidden": true
    },
    "tags": []
   },
   "outputs": [],
   "source": [
    "hier_level_names = ['complex','l2_id', 'l3_id', 'l4_id']\n",
    "for hier_level_1 in mb_complex.hierarchy:\n",
    "    for atom in hier_level_1:\n",
    "        atom.metadata['complex'] = ...\n",
    "    for hier_level_2 in hier_level_1.hierarchy:\n",
    "        "
   ]
  },
  {
   "cell_type": "markdown",
   "id": "daa4ed12",
   "metadata": {},
   "source": [
    "# Perses use cases"
   ]
  },
  {
   "cell_type": "markdown",
   "id": "5ff7415c",
   "metadata": {},
   "source": [
    "## 1. Coming with two molecules in SDF and a mapping between them"
   ]
  },
  {
   "cell_type": "code",
   "execution_count": null,
   "id": "ad9b4e9a",
   "metadata": {},
   "outputs": [],
   "source": [
    "# Loading two related molecules from SDF, and having an external tool provide an atom mapping\n",
    "ligand_1 = Molecule.from_file('ligand_1.sdf')\n",
    "ligand_1.n_atoms\n",
    "> 8\n",
    "\n",
    "protein_ligand_topology = Topology.from_molecules([protein, ligand_1, water*5000])\n",
    "\n",
    "ligand_2 = Molecule.from_file('ligand_2.sdf')\n",
    "ligand_2.n_atoms\n",
    "> 9\n",
    "\n",
    "ligand_1_top_mol = protein_ligand_topology.topology_molecules[1]\n",
    "\n",
    "lig1_core_atoms = [1, 2, 3, 4, 5, 6]\n",
    "atom_map = {1:1, 2:2, 3:3,\n",
    "            4:4, 5:5, 6:6, \n",
    "            7:8, 8:7}"
   ]
  },
  {
   "cell_type": "markdown",
   "id": "eda84a96",
   "metadata": {},
   "source": [
    "![](hybrid1.png)"
   ]
  },
  {
   "cell_type": "code",
   "execution_count": null,
   "id": "ee9f7821",
   "metadata": {},
   "outputs": [],
   "source": [
    "new_top, hybrid_top = protein_ligand_topology.replace_molecule(ligand1_top_mol, # This should be a _TopMol_ or TopMol idx\n",
    "                                                               ligand_2, # This can be either a Molecule or TopMol\n",
    "                                                               core_atoms, # a list of atom indices in ligand_1\n",
    "                                                               atom_map) # a dict like {ligand1_at_idx: ligand2_at_idx}\n",
    "\n",
    "# Internally, to do the transformation above, we'll need to \"construct\" one or more \"molecule_2\"s, such that \n",
    "# merge_molecules(ligand1_top_mol, molecule_2) --> ligand_2\n",
    "\n",
    "new_top.reference_molecules\n",
    "> [<Molecule protein>, <Molecule ligand_2>, <Molecule water>]\n",
    "new_top.topology_molecules\n",
    "> [<TopologyMolecule with ref_mol protein>, \n",
    "   <TopologyMolecule with ref_mol ligand_2>, \n",
    "   <TopologyMolecule with ref_mol water>, \n",
    "   <TopologyMolecule with ref_mol water>,\n",
    "   ...]\n",
    "new_top.topology_molecules[1].n_atoms\n",
    "> 9\n",
    "\n",
    "\n",
    "hybrid_top.reference_molecules\n",
    "> [<Molecule protein>, <AtomTypedMolecule hybrid_mol>, <Molecule water>]\n",
    "#               NOTE: ^^ NOTICE DIFFERENT TYPE HERE ^^\n",
    "hybrid_top.topology_molecules\n",
    "> [<TopologyMolecule with ref_mol protein>, \n",
    "   <TopologyMolecule with ref_mol hybrid_mol>, \n",
    "   <TopologyMolecule with ref_mol water>, \n",
    "   <TopologyMolecule with ref_mol water>,\n",
    "   ...]\n",
    "hybrid_top.topology_molecules[1].n_atoms\n",
    "> 11\n",
    "\n",
    "assert hybrid_top.topology_molecules[1].n_atoms == ligand_1.n_atoms + ligand_2.n_atoms - len(env_atoms)\n",
    "\n",
    "# Environment atom example\n",
    "new_top.topology_molecules[1].atom[6].metadata\n",
    "> {'old_top_index': 6, # the local TopologyMolecule atom index in protein_ligand_top\n",
    "   'hybrid_top_index': 6 # The local TopologyMolecule atom index in hybrid_top\n",
    "  }\n",
    "hybrid_top.topology_molecules[1].atom[6].metadata\n",
    "> {'new_top_index': 6  # the local TopologyMolecule atom index in new_top,\n",
    "   'old_top_index': 6}\n",
    "   \n",
    "# Modified atom example\n",
    "new_top.topology_molecules[1].atom[7].metadata\n",
    "> {'old_top_index': None, # the local TopologyMolecule atom index in protein_ligand_top\n",
    "   'hybrid_top_index': 9 # The local TopologyMolecule atom index in hybrid_top\n",
    "  }\n",
    "hybrid_top.topology_molecules[1].atom[9].metadata\n",
    "> {'new_top_index': 8  # the local TopologyMolecule atom index in new_top,\n",
    "   'old_top_index': None}"
   ]
  },
  {
   "cell_type": "code",
   "execution_count": null,
   "id": "f3a0280f",
   "metadata": {},
   "outputs": [],
   "source": [
    "# Here's another way to do the above which would yield a different hybrid topology -- This is why `env_atoms` is important!!\n",
    "core_atoms = [1, 2, 3, 4, 5, 6, 7]\n",
    "atom_map = {1:1, 2:2, 3:3,\n",
    "            4:4, 5:5, 6:6, \n",
    "            7:8, 8:7}\n"
   ]
  },
  {
   "cell_type": "markdown",
   "id": "c65833a8",
   "metadata": {},
   "source": [
    "![](hybrid2.png)"
   ]
  },
  {
   "cell_type": "markdown",
   "id": "be61497c",
   "metadata": {},
   "source": [
    "## 2. Coming in with a protein and switch to a different tautomer/protomer"
   ]
  },
  {
   "cell_type": "code",
   "execution_count": null,
   "id": "8e12fed7",
   "metadata": {},
   "outputs": [],
   "source": [
    "# Residue index we want to modify\n",
    "residue_idx = 10\n",
    "\n",
    "# Without caps\n",
    "oe_substructure = OpenEyeToolkitWrapper.hier_element_to_substructure(protein.residues[residue_idx])\n",
    "oe_substructure\n",
    "> <oechem.OEMol or AtomBondSet something>\n",
    "\n",
    "rdk_substructure = RDKitToolkitWrapper.hier_element_to_substructure(protein.residues[residue_idx])\n",
    "> <rdkit.Chem.Mol or Qmol or something>\n",
    "\n",
    "rdk_substructure.atoms[10].GetProp('original_mol_atom_index')\n",
    "> 110\n",
    "\n",
    "# ^^^Need feedback on return types for each toolkit^^^\n",
    "\n",
    "# Perses part\n",
    "atom_map = perses.mcss(rdk_substructure, rdk_new_mol)\n",
    "# What kind of map do we need?\n",
    "\n",
    "# Ideally for perses something like this could work\n",
    "new_protein = protein.mutate(protein.residues[residue_idx], \n",
    "                             rdk_new_mol, \n",
    "                             atom_map) # keys are indices from substructure, or entire original mol?\n",
    "\n",
    "\n",
    "# We have to know where the peptide bonds are located\n",
    "protein.residues[residue_idx]\n",
    "> HIE\n",
    "# the user may need to call perceive_residues and/or perceive_hierarchy here again... This is undecided\n",
    "new_protein.residues[residue_idx]\n",
    "> HID\n"
   ]
  },
  {
   "cell_type": "code",
   "execution_count": null,
   "id": "5d0af7c9",
   "metadata": {
    "tags": []
   },
   "outputs": [],
   "source": [
    "# Tentative implementation for mutate\n",
    "class Molecule:\n",
    "    def mutate(self, \n",
    "               atom_indices_to_replace: List[int],\n",
    "               atoms_to_add: Molecule, #? or substructure?, \n",
    "               atom_map: Dict[int:int], \n",
    "               keep_metadata=True, \n",
    "               return_hybrid_topology=False):\n",
    "        # TODO: We may need to cap `atoms_to_add` depending on how merge_molecules\n",
    "        #       ends up working\n",
    "        mol1_connection_points = []\n",
    "        mol2_connections_points = []\n",
    "        for bonds in self:\n",
    "            at1_idx = bonds.atom_1_index\n",
    "            at2_idx = bonds.atom_2_index\n",
    "            # TODO: Also check reverse direction (\"if at2_idx in atom_map.keys()...\")\n",
    "            if at1_idx in atom_map.keys():\n",
    "                mol1_connection_points.append(at1_idx)\n",
    "                mol2_connection_points.append(atom_map[at2_idx])\n",
    "                bond_orders.append(bond.bond_order)\n",
    "        new_mol, hyb_top = self.__cls__.merge_molecules(mol_1=self,\n",
    "                                                        mol_2=atoms_to_add,\n",
    "                                                        atoms_to_delete_1=atom_map.keys(),\n",
    "                                                        atoms_to_delete_2=[]\n",
    "                                                        connection_points_1=mol1_connection_points,\n",
    "                                                        connection_points_2=mol2_connection_points,\n",
    "                                                        bond_orders=bond_orders,\n",
    "                                                        keep_metadata=keep_metadata,\n",
    "                                                        percieve_hierarchy=False, # What's the best default behavior here?\n",
    "                                                        return_hybrid_topology=True #?\n",
    "                                                        )\n",
    "        # hyb_top could have 2 default HierarchySchemes -- mol1_index, mol2_index\n",
    "        \n",
    "        if transfer_metadata:\n",
    "            for atom in self.atoms:\n",
    "                new_mol.atoms[hyb_top.mol1_index[atom.index][0].metadata['new_mol_index']].metadata = atom.metadata\n",
    "            for atom in atoms_to_add.atoms:\n",
    "                new_mol.atoms[hyb_top.mol2_index[atom.index][0].metadata['new_mol_index']].metadata = atom.metadata\n",
    "        if return_hybrid_topology:\n",
    "            return new_mol, hyb_top,\n",
    "        else:\n",
    "            return new_mol"
   ]
  },
  {
   "cell_type": "code",
   "execution_count": null,
   "id": "ebf97402-74d5-43d2-a643-e08068a6cdca",
   "metadata": {},
   "outputs": [],
   "source": [
    "class Molecule:\n",
    "    ...\n",
    "    def perceive_residues(...):\n",
    "        ...\n",
    "\n",
    "class TopologyMolecule:\n",
    "    def perceive_residues(...):\n",
    "        if not hasattr(self.reference_molecule, 'perceive_residues'): #exclude TypedMolecules\n",
    "            return\n",
    "        self.reference_molecule.perceive_residues()\n",
    "        for ref_particle in self.reference_molecule.particles:\n",
    "            ref_idx = ref_particle.molecule_particle_index\n",
    "            top_mol_idx = self._ref_idx_2_top_idx[ref_idx]\n",
    "            for key, val in ref_particle.metadata.items():\n",
    "                self.particles[top_mol_idx].metadata[key] = val\n",
    "                #clean up afterwards, since we don't want data left on the ref mol\n",
    "                ref_particle.metadata.pop(key) \n",
    "            \n",
    "class Topology:\n",
    "    def perceive_residues_lazy(...):\n",
    "        for top_mol in self.topology_molecules:\n",
    "            top_mol.perceive_residues()\n",
    "    \n",
    "    def perceive_residues_efficient(...):\n",
    "        for ref_mol in self.reference_molecules:\n",
    "            if not hasattr(ref_mol, 'perceive_residues'): #exclude TypedMolecules\n",
    "                return\n",
    "\n",
    "            ref_mol.perceive_residues() # only do percieve_residues once per ref_mol\n",
    "            # TODO? refactor the below into a \"copy metadata from ref mol\" method of TopMol?\n",
    "            for ref_particle in ref_mol.particles:\n",
    "                for top_mol in self._ref_to_top_mols[ref_mol]:\n",
    "                    ref_idx = ref_particle.molecule_particle_index\n",
    "                    top_mol_idx = self._ref_idx_2_top_idx[ref_idx]\n",
    "                    for key, val in ref_particle.metadata.items():\n",
    "                        top_mol.particles[top_mol_idx].metadata[key] = val\n",
    "                #clean up afterwards, since we don't want data left on the ref mol\n",
    "                for key, val in ref_particle.metadata.items():\n",
    "                    ref_particle.metadata.pop(key)\n"
   ]
  },
  {
   "cell_type": "markdown",
   "id": "20c225f5-f584-4155-ab2b-20234c4ee849",
   "metadata": {},
   "source": [
    "## Flavors (default hierarchies)"
   ]
  },
  {
   "cell_type": "code",
   "execution_count": null,
   "id": "83c9792a",
   "metadata": {},
   "outputs": [],
   "source": [
    "offmol = Molecule() #(default is hierarchy_flavor=openff.toolkit.topology.HIER_FLAVOR_DEFAULT)\n",
    "offmol.hierarchy_schemes\n",
    "> {'residues': HierScheme for residues, 'chains': HierScheme for chains}\n",
    "offmol.deregister_hierarchy_scheme('residues')\n",
    "offmol.register_hierarchy_scheme(HierarchyScheme(name='residues',\n",
    "                                                 uniqueness_key=('residue_idx', 'residue_type')))\n",
    "\n",
    "\n",
    "offmol2 = Molecule(hierarchy_flavor=openff.toolkit.topology.HIER_FLAVOR_NONE)\n",
    "offmol.hierarchy_schemes\n",
    "> {}\n"
   ]
  },
  {
   "cell_type": "markdown",
   "id": "57027855-ad9a-4364-95bb-3c15d221ed84",
   "metadata": {},
   "source": [
    "## Extracting residues/hierarchy elements "
   ]
  },
  {
   "cell_type": "code",
   "execution_count": null,
   "id": "ce4b19fc-34e0-4618-a99f-35d1c020f3b3",
   "metadata": {},
   "outputs": [],
   "source": [
    "# Without caps\n",
    "oe_substructure = OpenEyeToolkitWrapper.hier_element_to_substructure(protein.residues[10])\n",
    "oe_substructure\n",
    "> <oechem.OEMol or AtomBondSet something>\n",
    "\n",
    "rdk_substructure = RDKitToolkitWrapper.hier_element_to_substructure(protein.residues[10])\n",
    "> <rdkit.Chem.Mol or Qmol or something>\n",
    "\n",
    "# ^^^Need feedback on return types for each toolkit^^^"
   ]
  },
  {
   "cell_type": "code",
   "execution_count": null,
   "id": "ae9f9b2c-432a-4a04-9f18-54899b7fb402",
   "metadata": {},
   "outputs": [],
   "source": [
    "# With caps -- DRAFT: This needs more thinking and information\n",
    "protein.residues[10].hierarchy_scheme.\n",
    "Molecule.from_amino_acid(protein.residues[10])\n",
    "protein.residues[10].to_capped_amino_acid(mol_class=Molecule)\n",
    "\n",
    "protein.residues[10]\n",
    "> <HierarchyElement with some settings>?\n",
    "OR\n",
    "> <ResidueHierarchyElement ...>?\n",
    "\n",
    "# Plugin interface? We need to learn more for this case\n",
    "capped_residue = Molecule.from_hier_element(protein.residues[10], capping_scheme='methyl')\n",
    "capped_residue\n",
    "> <openff.toolkit.topology.Molecule with SMILES CN[C@](C)C(=O)C >\n",
    "\n",
    "capped_residue = Molecule.from_hier_element(protein.residues[10], capping_scheme='n_charge')\n",
    "capped_residue\n",
    "> <openff.toolkit.topology.Molecule with SMILES [N+][C@](C)C(=O)C >\n",
    "\n",
    "#Where does CCD have these reactions?\n",
    "capped_residue = Molecule.from_hier_element(protein.residues[10], capping_scheme='from_ccd') \n",
    "capped_residue\n",
    "> <openff.toolkit.topology.Molecule with SMILES [N+][C@](C)C(=O)[O-] >\n",
    "\n",
    "\n",
    "protein.hierarchy_schemes['residues'].capping_reactions \n",
    "#Should it live in a ToolkitWrapper? Or HierarchyScheme/Element?\n",
    "> {'methyl': ('C(=O)C[N-:1]>[N:1]C',\n",
    "              '[C-:1]>[C:1]C'),\n",
    "   'n_charge': ('[N-:1]>[N+:1][H][H]')\n",
    "  }\n",
    "\n",
    "protein.residues[10].hierarchy_scheme\n",
    "> <HierarchyScheme with name 'residues' with uniqueness_criteria ('chain', 'residue_num', 'residue_name')> \n",
    "\n",
    "\n",
    "\n",
    "# OR, if we don't want to store capping reactions:\n",
    "\n",
    "capped_residue = Molecule.from_hier_element(protein.residues[10], capping_reactions=['[N-:1]>[N+:1][H][H]']) \n",
    "capped_residue\n",
    "> <openff.toolkit.topology.Molecule with SMILES [N+][C@](C)C(=O)[O-] >\n"
   ]
  },
  {
   "cell_type": "markdown",
   "id": "33bc5cc2",
   "metadata": {},
   "source": [
    "# Tests"
   ]
  },
  {
   "cell_type": "markdown",
   "id": "a6d9e715-9d3d-414b-a429-2bb3168272f2",
   "metadata": {},
   "source": [
    "## New API points\n",
    "\n",
    "Molecule\n",
    "\n",
    "* `__init__(hierarchy_flavor)`\n",
    "* merge_molecules\n",
    "* smirks_reaction(?)\n",
    "* mutate\n",
    "* perceive_residues\n",
    "* perceive_hierarchy\n",
    "* @classmethod? register_chemical_residue_substructures({residue SMARTS: (residue name, atom names)})\n",
    "* ??register_typed_residue_substructures({residue networkx graph: ([formal charges], [bond orders])})\n",
    "   * This could be redundant with the method above\n",
    "* deregister_residue_substructures\n",
    "* register_hierarchy_scheme\n",
    "* deregister_hierarchy_scheme\n",
    "* hierarchy_schemes\n",
    "\n",
    "* from_pdb_file\n",
    "    * _from_pdb_with_atom_and_residue_names(typ_mol)\n",
    "    * _from_pdb_with_conect(typ_mol) # uses _registered_residue_substructures\n",
    "* residues (and other iterators) \n",
    "* to_openeye (update)\n",
    "* to_rdkit (update)\n",
    "* to_dict (update/obliterate with pydantic serialization)\n",
    "* to_file (update)\n",
    "\n",
    "Atom\n",
    "* metadata (dataclass preferred, but dict would work too)\n",
    "\n",
    "TypedMolecule\n",
    "* `__init__(**kwargs)`\n",
    "* add_atom(mass, element, **kwargs)\n",
    "* add_bond(atom1, atom2, **kwargs)\n",
    "* atoms\n",
    "* bonds\n",
    "* angles/propers/impropers(?optional?)\n",
    "* conformers\n",
    "* to_file (initially just support PDB, possibly as typ_mol.to_mdtraj().to_pdb() )\n",
    "* to_networkx()\n",
    "* from_file (initially just PDB)\n",
    "\n",
    "TypedBond\n",
    "* `__init__(atom1, atom2, molecule, **kwargs)`\n",
    "* atom1\n",
    "* atom2\n",
    "* atom1_index\n",
    "* atom2_index\n",
    "\n",
    "TypedAtom\n",
    "* `__init__(mass, element, molecule, **kwargs)`\n",
    "* molecule_atom_index\n",
    "* molecule_particle_index\n",
    "\n",
    "TypedVirtualParticle\n",
    "* `__init__(molecule, **kwargs)`\n",
    "* molecule_particle_index\n",
    "\n",
    "\n",
    "Topology\n",
    "\n",
    "* replace_molecule\n",
    "* register_hierarchy_scheme\n",
    "* mdtraj_select\n",
    "* perceive_residues\n",
    "* perceive_hierarchy\n",
    "* residues (and other iterators) \n",
    "* add_molecule (update to include copying in metadata, appending hierarchies)\n",
    "* to_openmm (update)\n",
    "* to_mdtraj (update)\n",
    "\n",
    "TopologyMolecule\n",
    "\n",
    "* perceive_residues\n",
    "* perceive_hierarchy\n",
    "* residues (and other iterators) \n",
    "\n",
    "\n",
    "\n",
    "HierarchyFlavor\n",
    "* \n",
    "\n",
    "HierarchyScheme\n",
    "* `__init__(uniqueness_key, iterator_name)`\n",
    "* `__eq__ (for whether two schemes can safely be appended)`\n",
    "\n",
    "HierarchyElement\n",
    "* atoms\n",
    "* hierarchy_scheme\n",
    "* NOT index, because this is vague and could go out of date"
   ]
  },
  {
   "cell_type": "markdown",
   "id": "87eb8226",
   "metadata": {
    "tags": []
   },
   "source": [
    "\n",
    "* Test running merge_molecules on two molecules that have an existing hierarchies with the SAME name, but DIFFERENT HierarchySchemes behind them. \n",
    "    * An error should be raised, instructing the user to EITHER run merge_molecules with transfer_hierarchy_schemes=False\n",
    "      OR delete one of the colliding hierarchy schemes before merging.\n",
    "    * Upon deleting the colliding HierarchyScheme from the second molecule, the iterator should immediately dissapear\n",
    "      (`mol2.delete_hier_scheme('residues')` `mol2.residues --> AttributeError`) \n",
    "    * If both mol1 and mol2 have iterators with the same name, they should be appended\n",
    "    * If ONLY mol1 OR mol2 have an iterator, the final mol should have that iterator, but immediately following\n",
    "      the merge, only some of the atoms in the new molecule (only those originally in iterators) should be included\n",
    "    * Atoms that were deleted should not appear in any iterators after the merge\n",
    "    * Residues/HierElements that had all their atoms deleted MAY appear in the new molecule\n",
    "    * Residues/HierElements with the same value of `uniqueness_key` should be merged in the new molecule\n",
    "\n",
    "* Test that running perceive_residues on (a TypedMolecule, or a TopologyMolecule with its reference as a typed molecule, or a Topology containing a TypedMolecule) does NOT clear the existing data \n",
    "\n",
    "```python\n",
    "new_mol.perceive_hierarchy([atom_indices], [hierarchy_scheme_names])\n",
    "#new_mol.perceive_hierarchy({'residues': Molecule.HierScheme, 'chains': Molecule2.HierScheme})\n",
    "new_mol.register_hierarchy_scheme(hier_scheme_with_name_residues)\n",
    "new_mol.register_hierarchy_scheme(hier_scheme_with_name_chains)\n",
    "new_mol.perceive_hierarchy(['residues', 'chains'])                            \n",
    "new_mol.hierarchy_schemes\n",
    "> {'residues': <HierScheme with name 'residues'>, 'chains': <HierScheme2 with name 'chains'>...}\n",
    "```"
   ]
  },
  {
   "cell_type": "code",
   "execution_count": null,
   "id": "9ad224c8-6214-4e03-a38a-77c1d42f4afd",
   "metadata": {},
   "outputs": [],
   "source": []
  }
 ],
 "metadata": {
  "kernelspec": {
   "display_name": "Python 3",
   "language": "python",
   "name": "python3"
  },
  "language_info": {
   "codemirror_mode": {
    "name": "ipython",
    "version": 3
   },
   "file_extension": ".py",
   "mimetype": "text/x-python",
   "name": "python",
   "nbconvert_exporter": "python",
   "pygments_lexer": "ipython3",
   "version": "3.8.8"
  },
  "toc": {
   "base_numbering": 1,
   "nav_menu": {
    "height": "224px",
    "width": "324px"
   },
   "number_sections": true,
   "sideBar": true,
   "skip_h1_title": false,
   "title_cell": "Table of Contents",
   "title_sidebar": "Contents",
   "toc_cell": false,
   "toc_position": {},
   "toc_section_display": true,
   "toc_window_display": false
  },
  "toc-showtags": false
 },
 "nbformat": 4,
 "nbformat_minor": 5
}
