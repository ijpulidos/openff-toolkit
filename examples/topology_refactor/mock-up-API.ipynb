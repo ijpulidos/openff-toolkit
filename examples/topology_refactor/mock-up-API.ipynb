{
 "cells": [
  {
   "cell_type": "markdown",
   "id": "999be1ae",
   "metadata": {},
   "source": [
    "# Things we won't do\n",
    "\n",
    "* Load a structure with missing atoms\n",
    "* Check for clashes or structural errors\n",
    "* Support automatic filling in missing atoms/loops "
   ]
  },
  {
   "cell_type": "markdown",
   "id": "d2db66e7",
   "metadata": {},
   "source": [
    "# User contracts\n",
    "\n",
    "* Input data should have all the hydrogens. Complete molecules.\n",
    "* Molecules can only become invalid through inplace modifications. Methods would not return invalid molecules."
   ]
  },
  {
   "cell_type": "markdown",
   "id": "caa47f8e",
   "metadata": {},
   "source": [
    "# Reading from file\n",
    "\n",
    "Reading biopolymer molecules from files, either in `sdf` or in `pdb` formats.\n",
    "\n",
    "* from `sdf`: No residue information.\n",
    "* from `pdb`: No detailed chemical information. Bond order, formal charges, stereochemistry, etc.\n",
    "\n",
    "**Multiple molecules in single file**, so far. Molecule expected to be complete, including hydrogens."
   ]
  },
  {
   "cell_type": "markdown",
   "id": "a1f6a765",
   "metadata": {},
   "source": [
    "* Load from SDF, perceive residues\n",
    "* Load from PDB, fill in details according to known residues?"
   ]
  },
  {
   "cell_type": "code",
   "execution_count": null,
   "id": "68ce2cd6",
   "metadata": {},
   "outputs": [],
   "source": [
    "protein = Molecule.from_file('some_mol.sdf')\n",
    "protein.perceive_residues(pattern=['SMARTS_PATTERN', 'SMARTS_PATTERN2'])\n",
    "\n",
    "dna_helix = Molecule.from_file('some_dna.sdf')\n",
    "dna_helix.perceive_residues(nucleotides=True)\n",
    "# Do we want to differentiate deoxy with ribonucleotides?\n",
    "\n",
    "protein = Molecule.from_pdb_file('some_mol.pdb')\n",
    "\n",
    "print(protein)\n",
    "> Molecule with 5000 atoms\n",
    "\n",
    "protein = Molecule.from_pdb_file('some_mol_missing_hs.pdb')\n",
    "> IncompletePDBError: The Open Force Field Toolkit requires all \n",
    "> protons to be assigned before reading from PDB format. \n",
    "> (possibly more info here)\n",
    "\n",
    "# Perceiving residues - Should be automatic for PDB\n",
    "protein.perceive_residues()\n"
   ]
  },
  {
   "cell_type": "markdown",
   "id": "0d048cf3",
   "metadata": {},
   "source": [
    "Or we could have a special atom-typed object"
   ]
  },
  {
   "cell_type": "code",
   "execution_count": null,
   "id": "6e24c61e",
   "metadata": {},
   "outputs": [],
   "source": [
    "# Or a special atom-typed molecule\n",
    "protein = PDBMolecule.from_pdb_file('some_mol.pdb')\n",
    "print(protein)\n",
    "> <PDBMolecule ...>"
   ]
  },
  {
   "cell_type": "markdown",
   "id": "10cd7781",
   "metadata": {},
   "source": [
    "Or we could have a special method for atom-typed molecules/files"
   ]
  },
  {
   "cell_type": "code",
   "execution_count": null,
   "id": "fa0e5d4a",
   "metadata": {},
   "outputs": [],
   "source": [
    "# Or special method for PDB (atom-typed)\n",
    "protein = Molecule.from_pdbfile('some_mol.pdb')\n",
    "print(protein)\n",
    "> <Molecule with X atoms>"
   ]
  },
  {
   "cell_type": "markdown",
   "id": "ab53b25b",
   "metadata": {},
   "source": [
    "# Reading from sequence\n",
    "\n",
    "Reading biopolymer molecules from monomer/aa sequence string.\n",
    "\n",
    "> - What about terminal caps? \n",
    "\n",
    "**Not much of a use for this**\n",
    "\n",
    "    How to come up with conformers? Protonation? \n",
    "    How to match conformers to sequence?"
   ]
  },
  {
   "cell_type": "code",
   "execution_count": null,
   "id": "f19fa97c",
   "metadata": {},
   "outputs": [],
   "source": [
    "# from 3-letter code\n",
    "protein = Molecule.from_sequence(\"AlaValGly\", code='3-letter')\n",
    "\n",
    "# from 1-letter code (default?)\n",
    "protein = Molecule.from_sequence(\"AVQ\")\n",
    "\n",
    "print(protein)\n",
    "> Molecule with 5000 atoms\n",
    "\n",
    "# from 1-letter code (default?)\n",
    "protein = Molecule.from_sequence(\"AVQZ\")\n",
    "> UnrecognizedAAError: Unrecognized amino acid in position 3.\n",
    "# Analogous for 3-letter code. Could simply a ValueError do it?"
   ]
  },
  {
   "cell_type": "markdown",
   "id": "ff88ae56",
   "metadata": {},
   "source": [
    "# Histidines Protonation states\n",
    "\n",
    "If we know the bonds orders we should be able to know the protonation state at a given pH and vice versa."
   ]
  },
  {
   "cell_type": "code",
   "execution_count": null,
   "id": "e0244be5",
   "metadata": {},
   "outputs": [],
   "source": []
  },
  {
   "cell_type": "markdown",
   "id": "93eeb1f1",
   "metadata": {},
   "source": [
    "# Flexible bookkeeping and grouping\n",
    "\n",
    "Some (many?) of these things can be accomplished using some selection algebra language, as many visualizers and packages do (e.g. `name CA and resn LYS` ). We could eventually have a `to_mdtraj` as a way to use its selection language capabilities.\n"
   ]
  },
  {
   "cell_type": "markdown",
   "id": "a519c752",
   "metadata": {},
   "source": [
    "## Atoms"
   ]
  },
  {
   "cell_type": "code",
   "execution_count": null,
   "id": "3bd73fe6",
   "metadata": {},
   "outputs": [],
   "source": [
    "protein = Molecule.from_file('protein.sdf')\n",
    "protein.atoms\n",
    "> <generator object at ... >\n"
   ]
  },
  {
   "cell_type": "markdown",
   "id": "39d2effe",
   "metadata": {},
   "source": [
    "\n",
    "## Residues\n",
    "\n",
    "Residues in molecule should be iterable.\n",
    "\n",
    "**NOTE:** Do we need a `Residue` type? Would the `Molecule` type be sufficient? "
   ]
  },
  {
   "cell_type": "code",
   "execution_count": null,
   "id": "1f300db0",
   "metadata": {},
   "outputs": [],
   "source": [
    "# From SDF\n",
    "protein = Molecule.from_file('protein.sdf')\n",
    "protein.atoms[10].metadata['residue_name']\n",
    "> KeyError: Whats a residue?\n",
    "protein.perceive_residues()\n",
    "protein.atoms[10].metadata['residue_name']\n",
    "> ALA\n",
    "protein.atoms[10].metadata['residue_num']\n",
    "> 2\n",
    "\n",
    "# From PDB\n",
    "protein_from_pdb = Molecule.from_pdb_file('protein.pdb')\n",
    "protein_from_pdb.atoms[10].metadata['residue_name']\n",
    "> ALA\n",
    "\n"
   ]
  },
  {
   "cell_type": "markdown",
   "id": "63b85993",
   "metadata": {},
   "source": [
    "* Support iteration over `Biopolymer.residues` when residues are separated by\n",
    "    * resname/residue + resnum/resid"
   ]
  },
  {
   "cell_type": "code",
   "execution_count": null,
   "id": "53a754ba",
   "metadata": {},
   "outputs": [],
   "source": [
    "protein.residues\n",
    "> <generator object residues at 0x7f7268acecf0>\n",
    "\n",
    "residues_list = []\n",
    "for residue in protein.residues:\n",
    "    residues_list.append(residue)\n",
    "\n",
    "print(residues_list)\n",
    "> [<Residue ABC, ID1>, ..., <Residue XYZ, IDN>]"
   ]
  },
  {
   "cell_type": "code",
   "execution_count": null,
   "id": "a6d8600a",
   "metadata": {},
   "outputs": [],
   "source": [
    "print(protein.hierarchy_schemes)\n",
    "> [<HierarchyScheme with method_name='residues' uniqueness_criteria=['chain', 'residue_num', 'residue_name']>,\n",
    "   <HierarchyScheme with method_name='chains' uniqueness_criteria=['chain']>]\n",
    "\n",
    "protein.add_hierarchy_scheme(...)\n",
    "\n"
   ]
  },
  {
   "cell_type": "markdown",
   "id": "486794d1",
   "metadata": {},
   "source": [
    "We should expose only the setters defined by the hierarchy scheme"
   ]
  },
  {
   "cell_type": "code",
   "execution_count": null,
   "id": "edb619b6",
   "metadata": {},
   "outputs": [],
   "source": [
    "# Using the hierarchy scheme above\n",
    "protein.perceive_hierarchy(scheme=['residues'])\n",
    "protein.residues[10]\n",
    "> <HierarchyElement of type \"residues\" with id ('A','11','ALA') with residue_num 11, chain A, residue_name ALA>\n",
    "protein.residues[('A','11','ALA')]\n",
    "> <HierarchyElement of type \"residues\" with id ('A','11','ALA') with residue_num 11, chain A, residue_name ALA>\n",
    "\n",
    "\n",
    "\n",
    "protein.residues[10].residue_name\n",
    "> ALA\n",
    "protein.residues[10].residue_num\n",
    "> 2\n",
    "protein.residues[10].chain\n",
    "> 0\n",
    "or \n",
    "> \"A\"\n",
    "protein.residues[10].residue_name = \"LYS\"\n",
    "protein.residues[10].residue_name\n",
    "> LYS\n",
    "protein.residues[10].residue_num = 5\n",
    "protein.residues[10].residue_num\n",
    "> 5\n",
    "\n",
    "\n",
    "# Now Change the hierarchy scheme -- What does it do with the previous hierarchy metadata?\n",
    "protein.perceive_hierarchy(scheme=['chains'])\n",
    "[*protein.chains]\n",
    "> SomeSortOfDictyList[<HierarchyElement of type \"chains\" with id \"A\" with chain A>]\n",
    "protein.chains[0]\n",
    "> <HierarchyElement of type \"chains\" with id \"A\" with chain A>\n",
    "protein.chains['A']\n",
    "> <HierarchyElement of type \"chains\" with id \"A\" with chain A>\n",
    "\n",
    "protein.residues[10].chain = 'B'\n",
    "protein.residues[10].chain\n",
    "> \"B\"\n",
    "\n",
    "# Option 1 -- Let's do this one!\n",
    "protein.chains['B']\n",
    "> KeyError\n",
    "protein.perceive_hierarchy(scheme=['chains'])\n",
    "protein.chains['B']\n",
    "> <HierarchyElement of type \"chains\" with id \"B\" with chain B>\n",
    "\n",
    "# Option 2 -- This is probably bad, because it means the hierarchies are silently being re-percieved in the\n",
    "# background, which could screw with things that the user manually set\n",
    "protein.chains['B']\n",
    "> <HierarchyElement of type \"chains\" with id \"B\" with chain B>\n",
    "\n",
    "\n",
    "\n",
    "protein.chains['A'].chain = 'B'\n",
    "[*protein.chains]\n",
    "> SomeSortOfDictyList[<HierarchyElement of type \"chains\" with id \"B\" with chain B>]\n",
    "\n"
   ]
  },
  {
   "cell_type": "code",
   "execution_count": null,
   "id": "e30ee067",
   "metadata": {},
   "outputs": [],
   "source": [
    "protein.residues[10]\n",
    "> <HierarchyElement of type \"residues\" with id ('A','11','ALA') with residue_num 11, chain A, residue_name ALA>\n",
    "\n",
    "protein.residues[('A','11','ALA')]\n",
    "> <HierarchyElement of type \"residues\" with id ('A','11','ALA') with residue_num 11, chain A, residue_name ALA>\n",
    "\n",
    "protein.residues[10].chain\n",
    "> A\n",
    "protein.residues[10].chain='Z'\n",
    "protein.residues[10].chain\n",
    "> A\n",
    "protein.residues[-1].chain\n",
    "> Z\n",
    "\n",
    "protein.residues[('A','11','ALA')]\n",
    "> KeyError\n",
    "\n",
    "protein.residues[10]\n",
    "> <HierarchyElement of type \"residues\" with id ('A','12','HIS') with residue_num 12, chain A, residue_name HIS>\n",
    "\n",
    "protein.residues[('Z','11','ALA')]\n",
    "> <HierarchyElement of type \"residues\" with id ('Z','11','ALA') with residue_num 11, chain Z, residue_name ALA>\n",
    "protein.residues[-1]\n",
    "> <HierarchyElement of type \"residues\" with id ('Z','11','ALA') with residue_num 11, chain Z, residue_name ALA>\n"
   ]
  },
  {
   "cell_type": "markdown",
   "id": "d9fb016a",
   "metadata": {},
   "source": [
    "Drawbacks of the above approach\n",
    "* It is dangerous to allow integer-based access to hierarchy-lists, since they can go out of date\n",
    "    * Maybe only expose iterator?\n",
    "    * Should we expose subscriptable access at all? (allow `protein.chains[('A',)]`?). Or only allow acces via things like `protein.select_residues`?\n",
    "* It is dangerous to allow atom-level metadata assignment though HierarchyElements, since they can change the groupings\n",
    "* \n",
    "\n",
    "Possible future ideas?\n",
    "* Allow hierarchies within hierarchies? `protein.chains['A'].residues`?"
   ]
  },
  {
   "cell_type": "markdown",
   "id": "7ae58d45",
   "metadata": {},
   "source": [
    "### Nonstandard residue handling"
   ]
  },
  {
   "cell_type": "markdown",
   "id": "e51d4b61",
   "metadata": {},
   "source": [
    "* Detect unnatural AA and assign parameters, gracefully handle backbone interface w/ natural AAs\n",
    "* Modified AA becomes a single residue\n",
    "* Modified AA becomes several residues (maybe one for each monosaccharide)"
   ]
  },
  {
   "cell_type": "code",
   "execution_count": null,
   "id": "2b16c627",
   "metadata": {},
   "outputs": [],
   "source": [
    "protein = Molecule.from_file('protein.sdf')\n",
    "lipid = Molecule.from_file('lipid.sdf')\n",
    "\n",
    "print(protein.atoms[10].metadata['resname'])\n",
    "> KeyError: \n",
    "\n",
    "protein.perceive_residues(skip_hierarchy=True)\n",
    "print(protein.atoms[10].metadata['resname'])\n",
    "> ALA\n",
    "\n",
    "protein.residues\n",
    "> AttributeError\n",
    "\n",
    "protein.perceive_hierarchy()  # Exposes iterables\n",
    "protein.residues\n",
    "> ALA ALA LYS GLU\n",
    "\n",
    "protein_attachment_h = protein.mdtraj_sel('resname LYS and name HD2')[0]\n",
    "lipid_attachment_h = lipid.mdtraj.sel('name H1')[0]\n",
    "protein.delete_atom(protein_attachment_h)\n",
    "lipid.delete_atom(lipid_attachment_h)\n",
    "#add a new bond between the atoms that had their Hs removed\n",
    "#protein.add_bond(protein_attachment_h-1, lipid_attachment_h-1) \n",
    "\n",
    "new_molecule = Molecule.merge_molecules(protein, lipid, protein_attachment_h, lipid_attachment_h, \n",
    "                                        bond_order=1, keep_metadata=False)\n",
    "\n",
    "# Scheme is how to handle unknown regions of the molecule\n",
    "# e.g. The modified region becomes a single unknown residue\n",
    "new_molecule.perceive_hierarchy(scheme='default')\n",
    "\n",
    "\n",
    "print([*new_molecule.residues])\n",
    "> ALA, ALA, UNK, GLU\n",
    "\n",
    "new_molecule.clear_hierarchy()\n",
    "# Different scheme. The modified region tries to retain the original res label\n",
    "new_molecule.perceive_hierarchy(scheme='separate_ptms')\n",
    "print([*new_molecule.residues])\n",
    "> ALA, ALA, LYS, LIP, GLU\n",
    "\n",
    "\n",
    "\n",
    "# change atom properties/data\n",
    "protein.atoms[10].metadata['resname'] = 'GLU'\n",
    "protein.atoms[10].update_metadata(key='resname', value='GLU')"
   ]
  },
  {
   "cell_type": "markdown",
   "id": "13f8746c",
   "metadata": {},
   "source": [
    "Merge_molecules should optionally return a mapping from the original atom inidces to the new ones"
   ]
  },
  {
   "cell_type": "code",
   "execution_count": null,
   "id": "516f319c",
   "metadata": {},
   "outputs": [],
   "source": [
    "new_molecule, mol1_to_new_mol_idxs, mol2_to_new_mol_idx2 = Molecule.merge_molecules(protein, \n",
    "                                                                                    lipid, \n",
    "                                                                                    protein_attachment_h, \n",
    "                                                                                    lipid_attachment_h, \n",
    "                                                                                    bond_order=1, \n",
    "                                                                                    keep_metadata=False, \n",
    "                                                                                    return_atom_maps=True)"
   ]
  },
  {
   "cell_type": "markdown",
   "id": "d70f61f6",
   "metadata": {},
   "source": [
    "Get residues given IDs"
   ]
  },
  {
   "cell_type": "code",
   "execution_count": null,
   "id": "3bdc250e",
   "metadata": {},
   "outputs": [],
   "source": [
    "protein.select_residues(resid=23)\n",
    "> [<Residue GLY, 23>]\n",
    "\n",
    "# Do we want to be able to get groups of residues? (what about getting atoms from these?)\n",
    "protein.select_residues(resid=[23, 72, 12])\n",
    "> [<Residue GLY, 23>, <Residue GLY, 23>, <Residue GLY, 23>]  # Maybe this should be a generator"
   ]
  },
  {
   "cell_type": "markdown",
   "id": "335acf8a",
   "metadata": {},
   "source": [
    "Get the atoms from a given residue ID. Then the `Atom` must have some `resid` attribute?"
   ]
  },
  {
   "cell_type": "code",
   "execution_count": null,
   "id": "6e948b6c",
   "metadata": {},
   "outputs": [],
   "source": [
    "protein.select_residues(resid=23).atoms\n",
    "> [<Atom name='' atomic number='6' resid='23'>, <Atom name='' atomic number='7' resid='23'>, \n",
    "   ..., <Atom name='' atomic number='1' resid='23'>]\n",
    "\n",
    "# Do we want to be able to get groups of residues? (what about getting atoms from these?)\n",
    "protein.select_residues(resid=[23, 72, 12]).atoms\n",
    "> [\n",
    "    [<Atom name='' atomic number='6' resid='23'>, ..., <Atom name='' atomic number='1' resid='23'>],\n",
    "    [<Atom name='' atomic number='6' resid='72'>, ..., <Atom name='' atomic number='1' resid='72'>],\n",
    "    [<Atom name='' atomic number='6' resid='12'>, ..., <Atom name='' atomic number='1' resid='12'>]\n",
    "]"
   ]
  },
  {
   "cell_type": "markdown",
   "id": "0664d635",
   "metadata": {},
   "source": [
    "Get all residues matching a name"
   ]
  },
  {
   "cell_type": "code",
   "execution_count": null,
   "id": "1a83f107",
   "metadata": {},
   "outputs": [],
   "source": [
    "protein.select_residues(name=\"LYS\")\n",
    "> [<Residue LYS, 3>, <Residue LYS, 21>, ..., <Residue LYS, 344>]"
   ]
  },
  {
   "cell_type": "markdown",
   "id": "34b1741e",
   "metadata": {},
   "source": [
    "Renaming/transforming residues. \n",
    "\n",
    "> Should be just a metadata change"
   ]
  },
  {
   "cell_type": "code",
   "execution_count": null,
   "id": "83c344e3",
   "metadata": {},
   "outputs": [],
   "source": [
    "protein.select_residues(resid=23)[0].name\n",
    "> \"GLY\"\n",
    "protein.select_residues(resid=23)[0].name = \"LYS\"\n",
    "protein.select_residues(resid=23)[0].name\n",
    "> \"LYS\"\n",
    "protein.select_residues(resid=23)\n",
    "> [<Residue LYS, 23>]\n",
    "protein.select_residues(resid=23)[0].name = \"WAT\"\n",
    "> \n",
    "protein.select_residues(resid=23)[0].name \n",
    "> \"WAT\"\n",
    "\n",
    "# Do we want to be able to rename groups of residues?\n",
    "# Then we need to match shapes/lengths -- is it getting out of control?\n",
    "protein.select_residues(resid=[23, 72, 12]).name\n",
    "> [\"GLY\", \"ARG\", \"TYR\"]\n",
    "protein.select_residues(resid=[23, 72, 12]).name = [\"LYS\", \"VAL\", \"CYS\"]\n",
    "protein.select_residues(resid=[23, 72, 12]).name\n",
    "> [\"LYS\", \"VAL\", \"CYS\"]"
   ]
  },
  {
   "cell_type": "markdown",
   "id": "c6cfc352",
   "metadata": {},
   "source": [
    "We should be able to see numbers/ids and atoms"
   ]
  },
  {
   "cell_type": "code",
   "execution_count": null,
   "id": "f79cdc5b",
   "metadata": {},
   "outputs": [],
   "source": [
    "protein.select_residues(resid=23)[0]."
   ]
  },
  {
   "cell_type": "markdown",
   "id": "27153f74",
   "metadata": {},
   "source": [
    "## Chains/Segments\n",
    "\n",
    "We want to be able to group or cluster chains.\n",
    "\n",
    "> Do we want a `Chain` class?\n",
    "\n",
    "Assuming that you have multiple chains in your input files.\n",
    "\n",
    "Chains should be iterable."
   ]
  },
  {
   "cell_type": "code",
   "execution_count": null,
   "id": "e2790cd2",
   "metadata": {},
   "outputs": [],
   "source": [
    "protein = Molecule.from_file('protein.sdf')\n",
    "protein.chains\n",
    "> AttributeError: ...\n",
    "protein.perceive_chains()\n",
    "protein.chains\n",
    "> ['A', 'B', ...,  'Z', '0', ..., '9']\n",
    "protein.group_by(key='chains', values=['A', 'B'])\n",
    "> AtomGroup"
   ]
  },
  {
   "cell_type": "code",
   "execution_count": null,
   "id": "b4206d8f",
   "metadata": {},
   "outputs": [],
   "source": [
    "protein = Molecule.from_file('protein.sdf')\n",
    "protein.atoms[10].metadata['chain']\n",
    "> 'B'"
   ]
  },
  {
   "cell_type": "markdown",
   "id": "77372ae0",
   "metadata": {},
   "source": [
    "## Example. Protein - DNA merging"
   ]
  },
  {
   "cell_type": "markdown",
   "id": "71cf03eb",
   "metadata": {},
   "source": [
    "We expect coordinates of both molecules to be in the same frame of reference.\n",
    "\n",
    "* Attach a cofactor like heme, which connects to 4 other residues"
   ]
  },
  {
   "cell_type": "code",
   "execution_count": null,
   "id": "d0efb68c",
   "metadata": {},
   "outputs": [],
   "source": [
    "# Load structures and perceive info\n",
    "protein = Molecule.from_file('protein.sdf')\n",
    "dna = Molecule.from_file('dna.sdf')\n",
    "protein.perceive_residues()\n",
    "protein.residues\n",
    "> ALA ALA LYS ALA\n",
    "dna.perceive_residues(nucleotides=True)\n",
    "dna.residues\n",
    "> A T C G\n",
    "# Where they attach\n",
    "protein_attachment = protein.mdtraj_sel('resname LYS and name HD2')[0]\n",
    "dna_attachment = dna.chemical_environment_matches('c1ccn([H:1])c1')[0]\n",
    "# Merge the two\n",
    "new_molecule = Molecule.merge_molecules(protein, dna, protein_attachment, dna_attachment, \n",
    "                                        bond_order=1, keep_metadata=True)\n",
    "                                        # What metadata to keep then?\n",
    "new_molecule.residues\n",
    "> ALA ALA LYS ALA A T C G\n",
    "new_molecule.residue(5)  # Selects atoms in 6th residue in iter\n",
    "> T\n",
    "\n",
    "new_molecule.perceive_residues(amino_acids=True, \n",
    "                               nucleotides=True, \n",
    "                               clear_existing=True,\n",
    "                               scheme='default')\n",
    "new_molecule.residues\n",
    "> ALA ALA UNK ALA T C G\n",
    "or\n",
    "> ALA ALA UNK T ALA C G"
   ]
  },
  {
   "cell_type": "markdown",
   "id": "bebbcdc1",
   "metadata": {},
   "source": [
    "What if we want no residue information on DNA"
   ]
  },
  {
   "cell_type": "code",
   "execution_count": null,
   "id": "b7de043f",
   "metadata": {},
   "outputs": [],
   "source": [
    "# Load structures and perceive info - No residues for DNA\n",
    "protein = Molecule.from_file('protein.sdf')\n",
    "dna = Molecule.from_file('dna.sdf')\n",
    "protein.perceive_residues()\n",
    "protein.residues\n",
    "> ALA ALA LYS ALA\n",
    "dna.residues\n",
    "> AttributeError\n",
    "# Where they attach\n",
    "protein_attachment = protein.mdtraj_sel('resname LYS and name HD2')[0]\n",
    "dna_attachment = dna.chemical_environment_matches('c1ccn([H:1])c1')[0]\n",
    "# Merge the two\n",
    "new_molecule = Molecule.merge_molecules(protein, dna, protein_attachment, dna_attachment, \n",
    "                                        bond_order=1, keep_metadata=True)\n",
    "                                        # What metadata to keep then?\n",
    "new_molecule.residues\n",
    "> ALA ALA LYS ALA   # Note the difference here\n",
    "new_molecule.residue(5)  # Selects atoms in 6th residue in iter\n",
    "> IndexError: ...\n",
    "new_molecule.residue(3)\n",
    "> ALA\n",
    "\n",
    "new_molecule.perceive_residues(amino_acids=True, \n",
    "                               nucleotides=True, \n",
    "                               clear_existing=True,\n",
    "                               scheme='default')\n",
    "new_molecule.residues\n",
    "> ALA ALA UNK ALA T C G\n",
    "or\n",
    "> ALA ALA UNK T ALA C G\n"
   ]
  },
  {
   "cell_type": "markdown",
   "id": "be4339e8",
   "metadata": {},
   "source": [
    "If we have multiple attachment sites do we just run `merge_molecules` multiple times?"
   ]
  },
  {
   "cell_type": "markdown",
   "id": "87d2f51d",
   "metadata": {},
   "source": [
    "# Modifications\n",
    "\n",
    "## Adding/removing atoms\n",
    "\n",
    "* Change protonation state of a residue"
   ]
  },
  {
   "cell_type": "code",
   "execution_count": null,
   "id": "53c1a919",
   "metadata": {},
   "outputs": [],
   "source": [
    "mol = Molecule.from_file('protein.sdf')\n",
    "mol.perceive_residues()\n",
    "mol.residue(6)\n",
    "> Residue ALA / AtomGroup with 15 atoms with index 90-105\n",
    "new_idx = mol.add_atom(atomic_number=99, \n",
    "                       formal_charge=0, \n",
    "                       sterochemistry=None)\n",
    "mol.add_bond(100, new_idx, bond_order=1, stereochemistry=None)\n",
    "# EITHER\n",
    "mol.remove_bond(100, 101)\n",
    "mol.remove_atom(101)\n",
    "# OR\n",
    "mol.remove_atom(101)\n",
    "\n",
    "mol.residue(6)\n",
    "> Residue ALA / AtomGroup with 14 atoms\n",
    "\n",
    "mol.perceive_residues()\n",
    "mol.residue(6)\n",
    "> Residue UNK / AtomGroup with 15 atoms\n",
    "\n"
   ]
  },
  {
   "cell_type": "markdown",
   "id": "8d54abda",
   "metadata": {},
   "source": [
    "## Adding removing/residues"
   ]
  },
  {
   "cell_type": "markdown",
   "id": "398dd86f",
   "metadata": {},
   "source": [
    "# Handling bonds"
   ]
  },
  {
   "cell_type": "code",
   "execution_count": null,
   "id": "189c95de",
   "metadata": {},
   "outputs": [],
   "source": []
  },
  {
   "cell_type": "code",
   "execution_count": null,
   "id": "02dba300",
   "metadata": {},
   "outputs": [],
   "source": []
  },
  {
   "cell_type": "markdown",
   "id": "4f7315d3",
   "metadata": {},
   "source": [
    "# Handling `pydantic` errors"
   ]
  },
  {
   "cell_type": "code",
   "execution_count": 5,
   "id": "6230c701",
   "metadata": {},
   "outputs": [
    {
     "name": "stdout",
     "output_type": "stream",
     "text": [
      "name='Samuel Colvin' username='scolvin' password1='zxcvbn' password2='zxcvbn'\n"
     ]
    },
    {
     "ename": "ValueError",
     "evalue": "GLY doesn't exist",
     "output_type": "error",
     "traceback": [
      "\u001b[0;31m---------------------------------------------------------------\u001b[0m",
      "\u001b[0;31mValueError\u001b[0m                    Traceback (most recent call last)",
      "\u001b[0;32m<ipython-input-5-62c3b29bec81>\u001b[0m in \u001b[0;36m<module>\u001b[0;34m\u001b[0m\n\u001b[1;32m     43\u001b[0m \u001b[0;34m\u001b[0m\u001b[0m\n\u001b[1;32m     44\u001b[0m \u001b[0;32mtry\u001b[0m\u001b[0;34m:\u001b[0m\u001b[0;34m\u001b[0m\u001b[0;34m\u001b[0m\u001b[0m\n\u001b[0;32m---> 45\u001b[0;31m     \u001b[0mprotein\u001b[0m \u001b[0;34m=\u001b[0m \u001b[0mUserModel\u001b[0m\u001b[0;34m.\u001b[0m\u001b[0mfrom_sequence\u001b[0m\u001b[0;34m(\u001b[0m\u001b[0;34m\"AlaValGLY\"\u001b[0m\u001b[0;34m)\u001b[0m\u001b[0;34m\u001b[0m\u001b[0;34m\u001b[0m\u001b[0m\n\u001b[0m\u001b[1;32m     46\u001b[0m \u001b[0;34m\u001b[0m\u001b[0m\n\u001b[1;32m     47\u001b[0m     \u001b[0;31m#UserModel(\u001b[0m\u001b[0;34m\u001b[0m\u001b[0;34m\u001b[0m\u001b[0;34m\u001b[0m\u001b[0m\n",
      "\u001b[0;32m<ipython-input-5-62c3b29bec81>\u001b[0m in \u001b[0;36mfrom_sequence\u001b[0;34m(cls, seq)\u001b[0m\n\u001b[1;32m     29\u001b[0m         \u001b[0mname\u001b[0m \u001b[0;34m=\u001b[0m \u001b[0;34m' '\u001b[0m\u001b[0;34m.\u001b[0m\u001b[0mjoin\u001b[0m\u001b[0;34m(\u001b[0m\u001b[0mseq\u001b[0m\u001b[0;34m)\u001b[0m\u001b[0;34m\u001b[0m\u001b[0;34m\u001b[0m\u001b[0m\n\u001b[1;32m     30\u001b[0m         \u001b[0;32mif\u001b[0m \u001b[0;34m'GLY'\u001b[0m \u001b[0;32min\u001b[0m \u001b[0mseq\u001b[0m\u001b[0;34m:\u001b[0m\u001b[0;34m\u001b[0m\u001b[0;34m\u001b[0m\u001b[0m\n\u001b[0;32m---> 31\u001b[0;31m             \u001b[0;32mraise\u001b[0m \u001b[0mValueError\u001b[0m\u001b[0;34m(\u001b[0m\u001b[0;34m\"GLY doesn't exist\"\u001b[0m\u001b[0;34m)\u001b[0m\u001b[0;34m\u001b[0m\u001b[0;34m\u001b[0m\u001b[0m\n\u001b[0m\u001b[1;32m     32\u001b[0m         \u001b[0;32mreturn\u001b[0m \u001b[0mcls\u001b[0m\u001b[0;34m(\u001b[0m\u001b[0mname\u001b[0m\u001b[0;34m=\u001b[0m\u001b[0mname\u001b[0m\u001b[0;34m,\u001b[0m \u001b[0musername\u001b[0m\u001b[0;34m=\u001b[0m\u001b[0;34m'blah'\u001b[0m\u001b[0;34m,\u001b[0m \u001b[0mpassword1\u001b[0m\u001b[0;34m=\u001b[0m\u001b[0;34m'foo'\u001b[0m\u001b[0;34m,\u001b[0m \u001b[0mpassword2\u001b[0m\u001b[0;34m=\u001b[0m\u001b[0;34m'bar'\u001b[0m\u001b[0;34m)\u001b[0m\u001b[0;34m\u001b[0m\u001b[0;34m\u001b[0m\u001b[0m\n\u001b[1;32m     33\u001b[0m \u001b[0;34m\u001b[0m\u001b[0m\n",
      "\u001b[0;31mValueError\u001b[0m: GLY doesn't exist"
     ]
    }
   ],
   "source": [
    "from pydantic import BaseModel, ValidationError, validator\n",
    "\n",
    "\n",
    "class UserModel(BaseModel):\n",
    "    name: str\n",
    "    username: str\n",
    "    password1: str\n",
    "    password2: str\n",
    "\n",
    "    @validator('name')\n",
    "    def name_must_contain_space(cls, v):\n",
    "        if ' ' not in v:\n",
    "            raise ValueError('must contain a space')\n",
    "        return v.title()\n",
    "\n",
    "    @validator('password2')\n",
    "    def passwords_match(cls, v, values, **kwargs):\n",
    "        if 'password1' in values and v != values['password1']:\n",
    "            raise ValueError('passwords do not match')\n",
    "        return v\n",
    "\n",
    "    @validator('username')\n",
    "    def username_alphanumeric(cls, v):\n",
    "        assert v.isalnum(), 'must be alphanumeric'\n",
    "        return v\n",
    "    \n",
    "    @classmethod\n",
    "    def from_sequence(cls, seq):\n",
    "        name = ' '.join(seq)\n",
    "        if 'GLY' in seq:\n",
    "            raise ValueError(\"GLY doesn't exist\")\n",
    "        return cls(name=name, username='blah', password1='foo', password2='bar')\n",
    "\n",
    "\n",
    "user = UserModel(\n",
    "    name='samuel colvin',\n",
    "    username='scolvin',\n",
    "    password1='zxcvbn',\n",
    "    password2='zxcvbn',\n",
    ")\n",
    "print(user)\n",
    "#> name='Samuel Colvin' username='scolvin' password1='zxcvbn' password2='zxcvbn'\n",
    "\n",
    "try:\n",
    "    protein = UserModel.from_sequence(\"AlaValGLY\")\n",
    "\n",
    "    #UserModel(\n",
    "    #    name='samuel',\n",
    "    #    username='scolvin',\n",
    "    #    password1='zxcvbn',\n",
    "    #    password2='zxcvbn2',\n",
    "    #)\n",
    "except ValidationError as e:\n",
    "    print(e)\n",
    "    \"\"\"\n",
    "    2 validation errors for UserModel\n",
    "    name\n",
    "      must contain a space (type=value_error)\n",
    "    password2\n",
    "      passwords do not match (type=value_error)\n",
    "    \"\"\""
   ]
  },
  {
   "cell_type": "code",
   "execution_count": null,
   "id": "6b14a9c4",
   "metadata": {},
   "outputs": [],
   "source": []
  }
 ],
 "metadata": {
  "kernelspec": {
   "display_name": "Python 3",
   "language": "python",
   "name": "python3"
  },
  "language_info": {
   "codemirror_mode": {
    "name": "ipython",
    "version": 3
   },
   "file_extension": ".py",
   "mimetype": "text/x-python",
   "name": "python",
   "nbconvert_exporter": "python",
   "pygments_lexer": "ipython3",
   "version": "3.9.2"
  },
  "toc": {
   "base_numbering": 1,
   "nav_menu": {
    "height": "224px",
    "width": "324px"
   },
   "number_sections": true,
   "sideBar": true,
   "skip_h1_title": false,
   "title_cell": "Table of Contents",
   "title_sidebar": "Contents",
   "toc_cell": false,
   "toc_position": {},
   "toc_section_display": true,
   "toc_window_display": false
  }
 },
 "nbformat": 4,
 "nbformat_minor": 5
}
